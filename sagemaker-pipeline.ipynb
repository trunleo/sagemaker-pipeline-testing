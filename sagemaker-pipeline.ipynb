{
 "cells": [
  {
   "cell_type": "code",
   "execution_count": 32,
   "metadata": {},
   "outputs": [],
   "source": [
    "# !pip install sagemaker --upgrade"
   ]
  },
  {
   "cell_type": "markdown",
   "metadata": {},
   "source": [
    "# Set up session"
   ]
  },
  {
   "cell_type": "markdown",
   "metadata": {},
   "source": [
    "## Session type (local/non-local), region, bucket default, role execution"
   ]
  },
  {
   "cell_type": "code",
   "execution_count": 1,
   "metadata": {},
   "outputs": [
    {
     "name": "stdout",
     "output_type": "stream",
     "text": [
      "sagemaker.config INFO - Not applying SDK defaults from location: /Library/Application Support/sagemaker/config.yaml\n",
      "sagemaker.config INFO - Not applying SDK defaults from location: /Users/trungtran/Library/Application Support/sagemaker/config.yaml\n"
     ]
    }
   ],
   "source": [
    "import sys\n",
    "\n",
    "import boto3\n",
    "import sagemaker\n",
    "from sagemaker.workflow.pipeline_context import LocalPipelineSession\n",
    "\n",
    "# Create a `LocalPipelineSession` object so that each pipeline step will run locally\n",
    "# To run this pipeline in the cloud, you must change `LocalPipelineSession()` to `PipelineSession()`\n",
    "local_pipeline_session = LocalPipelineSession()\n",
    "\n",
    "region = local_pipeline_session.boto_region_name\n",
    "\n",
    "default_bucket = local_pipeline_session.default_bucket()\n",
    "prefix = \"sagemaker-pipelines-local-mode-example\"\n",
    "\n",
    "role = None  # Role is set below\n",
    "\n",
    "try:\n",
    "   role = sagemaker.get_execution_role()\n",
    "except ValueError:\n",
    "   iam = boto3.client('iam')\n",
    "   role = iam.get_role(RoleName='AirflowSageMakerExecutionRole')['Role']['Arn']\n",
    "   \n"
   ]
  },
  {
   "cell_type": "code",
   "execution_count": 17,
   "metadata": {},
   "outputs": [],
   "source": [
    "# !mkdir -p data"
   ]
  },
  {
   "cell_type": "code",
   "execution_count": 30,
   "metadata": {},
   "outputs": [
    {
     "name": "stdout",
     "output_type": "stream",
     "text": [
      "--2024-04-08 14:25:20--  https://raw.githubusercontent.com/jbrownlee/Datasets/master/abalone.csv\n",
      "Resolving raw.githubusercontent.com (raw.githubusercontent.com)... 185.199.108.133, 185.199.110.133, 185.199.111.133, ...\n",
      "Connecting to raw.githubusercontent.com (raw.githubusercontent.com)|185.199.108.133|:443... connected.\n",
      "HTTP request sent, awaiting response... 200 OK\n",
      "Length: 191872 (187K) [text/plain]\n",
      "Saving to: ‘abalone.csv’\n",
      "\n",
      "abalone.csv         100%[===================>] 187.38K  --.-KB/s    in 0.09s   \n",
      "\n",
      "2024-04-08 14:25:20 (2.01 MB/s) - ‘abalone.csv’ saved [191872/191872]\n",
      "\n"
     ]
    }
   ],
   "source": [
    "# !wget https://raw.githubusercontent.com/jbrownlee/Datasets/master/abalone.csv\n",
    "# !mv ./abalone.csv ./data/abalone-dataset.csv"
   ]
  },
  {
   "cell_type": "code",
   "execution_count": 27,
   "metadata": {},
   "outputs": [],
   "source": [
    "# # Pull the dataset from SageMaker's public S3 bucket and upload it to your own S3 bucket\n",
    "\n",
    "# local_path = \"data/abalone-dataset.csv\"\n",
    "\n",
    "# s3 = boto3.resource(\"s3\")\n",
    "# s3.Bucket(f\"sagemaker-example-files-prod-us-west-2\").download_file(\n",
    "#     \"datasets/tabular/uci_abalone/abalone.csv\", local_path\n",
    "# )\n"
   ]
  },
  {
   "cell_type": "markdown",
   "metadata": {},
   "source": [
    "## Upload Input data to default bucket"
   ]
  },
  {
   "cell_type": "code",
   "execution_count": 34,
   "metadata": {},
   "outputs": [
    {
     "name": "stdout",
     "output_type": "stream",
     "text": [
      "s3://sagemaker-ap-southeast-1-879654127886/sagemaker-pipelines-local-mode-example/abalone-data-set/abalone-dataset.csv\n"
     ]
    }
   ],
   "source": [
    "local_path = \"data/abalone-dataset.csv\"\n",
    "\n",
    "base_uri = f\"s3://{default_bucket}/{prefix}/abalone-data-set\"\n",
    "input_data_uri = sagemaker.s3.S3Uploader.upload(\n",
    "    local_path=local_path,\n",
    "    desired_s3_uri=base_uri,\n",
    ")\n",
    "print(input_data_uri)"
   ]
  },
  {
   "cell_type": "markdown",
   "metadata": {},
   "source": [
    "## Configuration the parameterize of pipeline\n",
    "* Processing\n",
    "* Training\n",
    "* Transform\n",
    "* Input data\n",
    "* MSE threshold"
   ]
  },
  {
   "cell_type": "code",
   "execution_count": 5,
   "metadata": {},
   "outputs": [],
   "source": [
    "from sagemaker.workflow.parameters import ParameterString, ParameterFloat\n",
    "\n",
    "processing_instance_count = 1\n",
    "training_instance_count = 1\n",
    "transform_instance_count = 1\n",
    "instance_type = \"ml.m5.xlarge\"\n",
    "\n",
    "input_data = ParameterString(\n",
    "    name=\"InputData\",\n",
    "    default_value=input_data_uri,\n",
    ")\n",
    "\n",
    "mse_threshold = ParameterFloat(name=\"MseThreshold\", default_value=7.0)"
   ]
  },
  {
   "cell_type": "code",
   "execution_count": 6,
   "metadata": {},
   "outputs": [],
   "source": [
    "# !mkdir -p code"
   ]
  },
  {
   "cell_type": "code",
   "execution_count": 8,
   "metadata": {},
   "outputs": [],
   "source": [
    "from sagemaker.sklearn.processing import SKLearnProcessor\n",
    "\n",
    "framework_version = \"1.0-1\"\n",
    "\n",
    "sklearn_processor = SKLearnProcessor(\n",
    "    framework_version=framework_version,\n",
    "    instance_type=instance_type,\n",
    "    instance_count=processing_instance_count,\n",
    "    base_job_name=\"sklearn-abalone-process\",\n",
    "    role=role,\n",
    "    sagemaker_session=local_pipeline_session,\n",
    ")"
   ]
  },
  {
   "cell_type": "markdown",
   "metadata": {},
   "source": [
    "# Setup pipeline"
   ]
  },
  {
   "cell_type": "markdown",
   "metadata": {},
   "source": [
    "## Pre-processing"
   ]
  },
  {
   "cell_type": "code",
   "execution_count": 35,
   "metadata": {},
   "outputs": [
    {
     "name": "stderr",
     "output_type": "stream",
     "text": [
      "/Users/trungtran/Library/Python/3.9/lib/python/site-packages/sagemaker/workflow/pipeline_context.py:332: UserWarning: Running within a PipelineSession, there will be No Wait, No Logs, and No Job being started.\n",
      "  warnings.warn(\n"
     ]
    }
   ],
   "source": [
    "from sagemaker.processing import ProcessingInput, ProcessingOutput\n",
    "from sagemaker.workflow.steps import ProcessingStep\n",
    "\n",
    "processor_args = sklearn_processor.run(\n",
    "    inputs=[\n",
    "        ProcessingInput(source=input_data, destination=\"/opt/ml/processing/input\"),\n",
    "    ],\n",
    "    outputs=[\n",
    "        ProcessingOutput(output_name=\"train\", source=\"/opt/ml/processing/train\"),\n",
    "        ProcessingOutput(output_name=\"validation\", source=\"/opt/ml/processing/validation\"),\n",
    "        ProcessingOutput(output_name=\"test\", source=\"/opt/ml/processing/test\"),\n",
    "    ],\n",
    "    code=\"code/preprocessing.py\",\n",
    ")\n",
    "\n",
    "step_process = ProcessingStep(name=\"AbaloneProcess\", step_args=processor_args)"
   ]
  },
  {
   "cell_type": "markdown",
   "metadata": {},
   "source": [
    "## Training step"
   ]
  },
  {
   "cell_type": "code",
   "execution_count": 11,
   "metadata": {},
   "outputs": [],
   "source": [
    "from sagemaker.estimator import Estimator\n",
    "from sagemaker.inputs import TrainingInput\n",
    "\n",
    "model_path = f\"s3://{default_bucket}/{prefix}/model\"\n",
    "image_uri = sagemaker.image_uris.retrieve(\n",
    "    framework=\"xgboost\",\n",
    "    region=region,\n",
    "    version=\"1.5-1\",\n",
    "    instance_type=instance_type,\n",
    ")\n",
    "\n",
    "xgb_train = Estimator(\n",
    "    image_uri=image_uri,\n",
    "    entry_point=\"code/abalone.py\",\n",
    "    instance_type=instance_type,\n",
    "    instance_count=training_instance_count,\n",
    "    output_path=model_path,\n",
    "    role=role,\n",
    "    sagemaker_session=local_pipeline_session,\n",
    ")\n",
    "\n",
    "xgb_train.set_hyperparameters(\n",
    "    objective=\"reg:squarederror\",\n",
    "    learning_rate=0.01,\n",
    "    num_round=50,\n",
    "    max_depth=5,\n",
    "    eta=0.2,\n",
    "    gamma=4,\n",
    "    min_child_weight=6,\n",
    "    subsample=0.7,\n",
    ")\n",
    "\n",
    "train_args = xgb_train.fit(\n",
    "    inputs={\n",
    "        \"train\": TrainingInput(\n",
    "            s3_data=step_process.properties.ProcessingOutputConfig.Outputs[\"train\"].S3Output.S3Uri,\n",
    "            content_type=\"text/csv\",\n",
    "        ),\n",
    "        \"validation\": TrainingInput(\n",
    "            s3_data=step_process.properties.ProcessingOutputConfig.Outputs[\n",
    "                \"validation\"\n",
    "            ].S3Output.S3Uri,\n",
    "            content_type=\"text/csv\",\n",
    "        ),\n",
    "    }\n",
    ")"
   ]
  },
  {
   "cell_type": "code",
   "execution_count": 12,
   "metadata": {},
   "outputs": [],
   "source": [
    "from sagemaker.inputs import TrainingInput\n",
    "from sagemaker.workflow.steps import TrainingStep\n",
    "\n",
    "step_train = TrainingStep(\n",
    "    name=\"AbaloneTrain\",\n",
    "    step_args=train_args,\n",
    ")"
   ]
  },
  {
   "cell_type": "markdown",
   "metadata": {},
   "source": [
    "## Evaluation Step"
   ]
  },
  {
   "cell_type": "code",
   "execution_count": 14,
   "metadata": {},
   "outputs": [],
   "source": [
    "from sagemaker.processing import ScriptProcessor\n",
    "\n",
    "script_eval = ScriptProcessor(\n",
    "    image_uri=image_uri,\n",
    "    command=[\"python3\"],\n",
    "    instance_type=instance_type,\n",
    "    instance_count=processing_instance_count,\n",
    "    base_job_name=\"script-abalone-eval\",\n",
    "    role=role,\n",
    "    sagemaker_session=local_pipeline_session,\n",
    ")\n",
    "\n",
    "eval_args = script_eval.run(\n",
    "    inputs=[\n",
    "        ProcessingInput(\n",
    "            source=step_train.properties.ModelArtifacts.S3ModelArtifacts,\n",
    "            destination=\"/opt/ml/processing/model\",\n",
    "        ),\n",
    "        ProcessingInput(\n",
    "            source=step_process.properties.ProcessingOutputConfig.Outputs[\"test\"].S3Output.S3Uri,\n",
    "            destination=\"/opt/ml/processing/test\",\n",
    "        ),\n",
    "    ],\n",
    "    outputs=[\n",
    "        ProcessingOutput(output_name=\"evaluation\", source=\"/opt/ml/processing/evaluation\"),\n",
    "    ],\n",
    "    code=\"code/evaluation.py\",\n",
    ")"
   ]
  },
  {
   "cell_type": "markdown",
   "metadata": {},
   "source": [
    "## Setup processing task"
   ]
  },
  {
   "cell_type": "code",
   "execution_count": 15,
   "metadata": {},
   "outputs": [],
   "source": [
    "from sagemaker.workflow.properties import PropertyFile\n",
    "\n",
    "evaluation_report = PropertyFile(\n",
    "    name=\"EvaluationReport\", output_name=\"evaluation\", path=\"evaluation.json\"\n",
    ")\n",
    "step_eval = ProcessingStep(\n",
    "    name=\"AbaloneEval\",\n",
    "    step_args=eval_args,\n",
    "    property_files=[evaluation_report],\n",
    ")"
   ]
  },
  {
   "cell_type": "markdown",
   "metadata": {},
   "source": [
    "## Create Model step"
   ]
  },
  {
   "cell_type": "code",
   "execution_count": 17,
   "metadata": {},
   "outputs": [],
   "source": [
    "from sagemaker.model import Model\n",
    "\n",
    "model = Model(\n",
    "    image_uri=image_uri,\n",
    "    model_data=step_train.properties.ModelArtifacts.S3ModelArtifacts,\n",
    "    source_dir=\"code\",\n",
    "    entry_point=\"inference.py\",\n",
    "    role=role,\n",
    "    sagemaker_session=local_pipeline_session,\n",
    ")"
   ]
  },
  {
   "cell_type": "code",
   "execution_count": 18,
   "metadata": {},
   "outputs": [],
   "source": [
    "from sagemaker.workflow.model_step import ModelStep\n",
    "\n",
    "step_create_model = ModelStep(\n",
    "    name=\"AbaloneCreateModel\", step_args=model.create(instance_type=instance_type)\n",
    ")"
   ]
  },
  {
   "cell_type": "markdown",
   "metadata": {},
   "source": [
    "## Transformation Step"
   ]
  },
  {
   "cell_type": "code",
   "execution_count": 19,
   "metadata": {},
   "outputs": [],
   "source": [
    "from sagemaker.transformer import Transformer\n",
    "\n",
    "\n",
    "transformer = Transformer(\n",
    "    model_name=step_create_model.properties.ModelName,\n",
    "    instance_type=instance_type,\n",
    "    instance_count=transform_instance_count,\n",
    "    output_path=f\"s3://{default_bucket}/{prefix}/transform\",\n",
    "    sagemaker_session=local_pipeline_session,\n",
    ")"
   ]
  },
  {
   "cell_type": "code",
   "execution_count": 20,
   "metadata": {},
   "outputs": [],
   "source": [
    "from sagemaker.inputs import TransformInput\n",
    "from sagemaker.workflow.steps import TransformStep\n",
    "from sagemaker.workflow.functions import Join\n",
    "\n",
    "transform_data = Join(\n",
    "    on=\"/\",\n",
    "    values=[\n",
    "        step_process.properties.ProcessingOutputConfig.Outputs[\"test\"].S3Output.S3Uri,\n",
    "        \"test.csv\",\n",
    "    ],\n",
    ")\n",
    "\n",
    "transform_args = transformer.transform(transform_data, content_type=\"text/csv\")\n",
    "\n",
    "step_transform = TransformStep(name=\"AbaloneTransform\", step_args=transform_args)\n"
   ]
  },
  {
   "cell_type": "markdown",
   "metadata": {},
   "source": [
    "## Handle fail step"
   ]
  },
  {
   "cell_type": "code",
   "execution_count": 21,
   "metadata": {},
   "outputs": [],
   "source": [
    "from sagemaker.workflow.fail_step import FailStep\n",
    "\n",
    "step_fail = FailStep(\n",
    "    name=\"AbaloneMSEFail\",\n",
    "    error_message=Join(on=\" \", values=[\"Execution failed due to MSE >\", mse_threshold]),\n",
    ")"
   ]
  },
  {
   "cell_type": "code",
   "execution_count": 22,
   "metadata": {},
   "outputs": [],
   "source": [
    "from sagemaker.workflow.conditions import ConditionLessThanOrEqualTo\n",
    "from sagemaker.workflow.condition_step import ConditionStep\n",
    "from sagemaker.workflow.functions import JsonGet\n",
    "\n",
    "cond_lte = ConditionLessThanOrEqualTo(\n",
    "    left=JsonGet(\n",
    "        step_name=step_eval.name,\n",
    "        property_file=evaluation_report,\n",
    "        json_path=\"regression_metrics.mse.value\",\n",
    "    ),\n",
    "    right=mse_threshold,\n",
    ")\n",
    "\n",
    "step_cond = ConditionStep(\n",
    "    name=\"AbaloneMSECond\",\n",
    "    conditions=[cond_lte],\n",
    "    if_steps=[step_create_model, step_transform],\n",
    "    else_steps=[step_fail],\n",
    ")"
   ]
  },
  {
   "cell_type": "code",
   "execution_count": 23,
   "metadata": {},
   "outputs": [],
   "source": [
    "from sagemaker.workflow.pipeline import Pipeline\n",
    "\n",
    "pipeline_name = f\"LocalModelPipeline\"\n",
    "pipeline = Pipeline(\n",
    "    name=pipeline_name,\n",
    "    parameters=[\n",
    "        input_data,\n",
    "        mse_threshold,\n",
    "    ],\n",
    "    steps=[step_process, step_train, step_eval, step_cond],\n",
    "    sagemaker_session=local_pipeline_session,\n",
    ")"
   ]
  },
  {
   "cell_type": "markdown",
   "metadata": {},
   "source": [
    "# Execute the pipeline"
   ]
  },
  {
   "cell_type": "code",
   "execution_count": 25,
   "metadata": {},
   "outputs": [
    {
     "data": {
      "text/plain": [
       "{'PipelineArn': 'LocalModelPipeline'}"
      ]
     },
     "execution_count": 25,
     "metadata": {},
     "output_type": "execute_result"
    }
   ],
   "source": [
    "pipeline.upsert(role_arn=role)\n"
   ]
  },
  {
   "cell_type": "code",
   "execution_count": 36,
   "metadata": {},
   "outputs": [
    {
     "name": "stderr",
     "output_type": "stream",
     "text": [
      "WARNING:sagemaker.workflow.utilities:Popping out 'ProcessingJobName' from the pipeline definition by default since it will be overridden at pipeline execution time. Please utilize the PipelineDefinitionConfig to persist this field in the pipeline definition if desired.\n",
      "WARNING:sagemaker.workflow.utilities:Popping out 'TrainingJobName' from the pipeline definition by default since it will be overridden at pipeline execution time. Please utilize the PipelineDefinitionConfig to persist this field in the pipeline definition if desired.\n",
      "WARNING:sagemaker.workflow.utilities:Popping out 'ProcessingJobName' from the pipeline definition by default since it will be overridden at pipeline execution time. Please utilize the PipelineDefinitionConfig to persist this field in the pipeline definition if desired.\n",
      "WARNING:sagemaker.workflow.utilities:Popping out 'TrainingJobName' from the pipeline definition by default since it will be overridden at pipeline execution time. Please utilize the PipelineDefinitionConfig to persist this field in the pipeline definition if desired.\n",
      "WARNING:sagemaker.workflow.utilities:Popping out 'ModelName' from the pipeline definition by default since it will be overridden at pipeline execution time. Please utilize the PipelineDefinitionConfig to persist this field in the pipeline definition if desired.\n",
      "WARNING:sagemaker.workflow.utilities:Popping out 'TransformJobName' from the pipeline definition by default since it will be overridden at pipeline execution time. Please utilize the PipelineDefinitionConfig to persist this field in the pipeline definition if desired.\n",
      "INFO:sagemaker.local.entities:Starting execution for pipeline LocalModelPipeline. Execution ID is 13a73e55-1a1a-4186-955e-10f9252aa090\n",
      "WARNING:sagemaker.workflow.utilities:Popping out 'ProcessingJobName' from the pipeline definition by default since it will be overridden at pipeline execution time. Please utilize the PipelineDefinitionConfig to persist this field in the pipeline definition if desired.\n",
      "WARNING:sagemaker.workflow.utilities:Popping out 'TrainingJobName' from the pipeline definition by default since it will be overridden at pipeline execution time. Please utilize the PipelineDefinitionConfig to persist this field in the pipeline definition if desired.\n",
      "WARNING:sagemaker.workflow.utilities:Popping out 'ProcessingJobName' from the pipeline definition by default since it will be overridden at pipeline execution time. Please utilize the PipelineDefinitionConfig to persist this field in the pipeline definition if desired.\n",
      "WARNING:sagemaker.workflow.utilities:Popping out 'TrainingJobName' from the pipeline definition by default since it will be overridden at pipeline execution time. Please utilize the PipelineDefinitionConfig to persist this field in the pipeline definition if desired.\n",
      "WARNING:sagemaker.workflow.utilities:Popping out 'ModelName' from the pipeline definition by default since it will be overridden at pipeline execution time. Please utilize the PipelineDefinitionConfig to persist this field in the pipeline definition if desired.\n",
      "WARNING:sagemaker.workflow.utilities:Popping out 'TransformJobName' from the pipeline definition by default since it will be overridden at pipeline execution time. Please utilize the PipelineDefinitionConfig to persist this field in the pipeline definition if desired.\n",
      "INFO:sagemaker.local.entities:Starting pipeline step: 'AbaloneProcess'\n",
      "INFO:sagemaker.local.image:'Docker Compose' found using Docker CLI.\n",
      "INFO:sagemaker.local.local_session:Starting processing job\n",
      "INFO:sagemaker.local.image:Using the long-lived AWS credentials found in session\n",
      "INFO:sagemaker.local.image:docker compose file: \n",
      "networks:\n",
      "  sagemaker-local:\n",
      "    name: sagemaker-local\n",
      "services:\n",
      "  algo-1-537dx:\n",
      "    container_name: u53jkpe0te-algo-1-537dx\n",
      "    entrypoint:\n",
      "    - python3\n",
      "    - /opt/ml/processing/input/code/preprocessing.py\n",
      "    environment:\n",
      "    - '[Masked]'\n",
      "    - '[Masked]'\n",
      "    image: 121021644041.dkr.ecr.ap-southeast-1.amazonaws.com/sagemaker-scikit-learn:1.0-1-cpu-py3\n",
      "    networks:\n",
      "      sagemaker-local:\n",
      "        aliases:\n",
      "        - algo-1-537dx\n",
      "    stdin_open: true\n",
      "    tty: true\n",
      "    volumes:\n",
      "    - /private/var/folders/11/8pq7lf2166bbtfcvp2m1z20c0000gn/T/tmpkpjth5eb/algo-1-537dx/config:/opt/ml/config\n",
      "    - /private/var/folders/11/8pq7lf2166bbtfcvp2m1z20c0000gn/T/tmpkpjth5eb/algo-1-537dx/output:/opt/ml/output\n",
      "    - /private/var/folders/11/8pq7lf2166bbtfcvp2m1z20c0000gn/T/tmpauxr_3jq:/opt/ml/processing/input\n",
      "    - /private/var/folders/11/8pq7lf2166bbtfcvp2m1z20c0000gn/T/tmp5z8stnlr:/opt/ml/processing/input/code\n",
      "    - /private/var/folders/11/8pq7lf2166bbtfcvp2m1z20c0000gn/T/tmpjs4j0xmg/output/train:/opt/ml/processing/train\n",
      "    - /private/var/folders/11/8pq7lf2166bbtfcvp2m1z20c0000gn/T/tmpjs4j0xmg/output/validation:/opt/ml/processing/validation\n",
      "    - /private/var/folders/11/8pq7lf2166bbtfcvp2m1z20c0000gn/T/tmpjs4j0xmg/output/test:/opt/ml/processing/test\n",
      "    - /private/var/folders/11/8pq7lf2166bbtfcvp2m1z20c0000gn/T/tmpkpjth5eb/shared:/opt/ml/shared\n",
      "version: '2.3'\n",
      "\n",
      "INFO:sagemaker.local.image:docker command: docker compose -f /private/var/folders/11/8pq7lf2166bbtfcvp2m1z20c0000gn/T/tmpkpjth5eb/docker-compose.yaml up --build --abort-on-container-exit\n"
     ]
    },
    {
     "name": "stdout",
     "output_type": "stream",
     "text": [
      "time=\"2024-04-08T14:29:53+07:00\" level=warning msg=\"a network with name sagemaker-local exists but was not created for project \\\"tmpkpjth5eb\\\".\\nSet `external: true` to use an existing network\"\n",
      " Container u53jkpe0te-algo-1-537dx  Creating\n",
      " algo-1-537dx The requested image's platform (linux/amd64) does not match the detected host platform (linux/arm64/v8) and no specific platform was requested \n",
      " Container u53jkpe0te-algo-1-537dx  Created\n",
      "Attaching to u53jkpe0te-algo-1-537dx\n",
      "u53jkpe0te-algo-1-537dx exited with code 0\n",
      "Aborting on container exit...\n",
      " Container u53jkpe0te-algo-1-537dx  Stopping\n",
      " Container u53jkpe0te-algo-1-537dx  Stopped\n"
     ]
    },
    {
     "name": "stderr",
     "output_type": "stream",
     "text": [
      "INFO:sagemaker.local.image:===== Job Complete =====\n",
      "INFO:sagemaker.local.entities:Pipeline step 'AbaloneProcess' SUCCEEDED.\n",
      "INFO:sagemaker.local.entities:Starting pipeline step: 'AbaloneTrain'\n",
      "INFO:sagemaker.local.image:'Docker Compose' found using Docker CLI.\n",
      "INFO:sagemaker.local.local_session:Starting training job\n",
      "INFO:sagemaker.local.image:Using the long-lived AWS credentials found in session\n",
      "INFO:sagemaker.local.image:docker compose file: \n",
      "networks:\n",
      "  sagemaker-local:\n",
      "    name: sagemaker-local\n",
      "services:\n",
      "  algo-1-r8i9d:\n",
      "    command: train\n",
      "    container_name: ivj5rbwx8e-algo-1-r8i9d\n",
      "    environment:\n",
      "    - '[Masked]'\n",
      "    - '[Masked]'\n",
      "    - '[Masked]'\n",
      "    - '[Masked]'\n",
      "    - '[Masked]'\n",
      "    image: 121021644041.dkr.ecr.ap-southeast-1.amazonaws.com/sagemaker-xgboost:1.5-1\n",
      "    networks:\n",
      "      sagemaker-local:\n",
      "        aliases:\n",
      "        - algo-1-r8i9d\n",
      "    stdin_open: true\n",
      "    tty: true\n",
      "    volumes:\n",
      "    - /private/var/folders/11/8pq7lf2166bbtfcvp2m1z20c0000gn/T/tmpyrgi8yqe/algo-1-r8i9d/output/data:/opt/ml/output/data\n",
      "    - /private/var/folders/11/8pq7lf2166bbtfcvp2m1z20c0000gn/T/tmpyrgi8yqe/algo-1-r8i9d/output:/opt/ml/output\n",
      "    - /private/var/folders/11/8pq7lf2166bbtfcvp2m1z20c0000gn/T/tmpyrgi8yqe/algo-1-r8i9d/input:/opt/ml/input\n",
      "    - /private/var/folders/11/8pq7lf2166bbtfcvp2m1z20c0000gn/T/tmpyrgi8yqe/model:/opt/ml/model\n",
      "    - /private/var/folders/11/8pq7lf2166bbtfcvp2m1z20c0000gn/T/tmp5a2kv3hl:/opt/ml/input/data/train\n",
      "    - /private/var/folders/11/8pq7lf2166bbtfcvp2m1z20c0000gn/T/tmpk2qfuzf4:/opt/ml/input/data/validation\n",
      "version: '2.3'\n",
      "\n",
      "INFO:sagemaker.local.image:docker command: docker pull 121021644041.dkr.ecr.ap-southeast-1.amazonaws.com/sagemaker-xgboost:1.5-1\n"
     ]
    },
    {
     "name": "stdout",
     "output_type": "stream",
     "text": [
      "Login Succeeded\n"
     ]
    },
    {
     "name": "stderr",
     "output_type": "stream",
     "text": [
      "\n",
      "What's Next?\n",
      "  View a summary of image vulnerabilities and recommendations → docker scout quickview 121021644041.dkr.ecr.ap-southeast-1.amazonaws.com/sagemaker-xgboost:1.5-1\n",
      "INFO:sagemaker.local.image:image pulled: 121021644041.dkr.ecr.ap-southeast-1.amazonaws.com/sagemaker-xgboost:1.5-1\n",
      "INFO:sagemaker.local.image:docker command: docker compose -f /private/var/folders/11/8pq7lf2166bbtfcvp2m1z20c0000gn/T/tmpyrgi8yqe/docker-compose.yaml up --build --abort-on-container-exit\n"
     ]
    },
    {
     "name": "stdout",
     "output_type": "stream",
     "text": [
      "time=\"2024-04-08T14:44:26+07:00\" level=warning msg=\"a network with name sagemaker-local exists but was not created for project \\\"tmpyrgi8yqe\\\".\\nSet `external: true` to use an existing network\"\n",
      " Container ivj5rbwx8e-algo-1-r8i9d  Creating\n",
      " algo-1-r8i9d The requested image's platform (linux/amd64) does not match the detected host platform (linux/arm64/v8) and no specific platform was requested \n",
      " Container ivj5rbwx8e-algo-1-r8i9d  Created\n",
      "Attaching to ivj5rbwx8e-algo-1-r8i9d\n",
      "ivj5rbwx8e-algo-1-r8i9d  | <jemalloc>: MADV_DONTNEED does not work (memset will be used instead)\n",
      "ivj5rbwx8e-algo-1-r8i9d  | <jemalloc>: (This is the expected behaviour if you are running under QEMU)\n",
      "ivj5rbwx8e-algo-1-r8i9d  | /miniconda3/lib/python3.8/site-packages/xgboost/compat.py:36: FutureWarning: pandas.Int64Index is deprecated and will be removed from pandas in a future version. Use pandas.Index with the appropriate dtype instead.\n",
      "ivj5rbwx8e-algo-1-r8i9d  |   from pandas import MultiIndex, Int64Index\n",
      "ivj5rbwx8e-algo-1-r8i9d  | [2024-04-08 07:44:36.192 42dc2ee5a3f7:1 INFO utils.py:28] RULE_JOB_STOP_SIGNAL_FILENAME: None\n",
      "ivj5rbwx8e-algo-1-r8i9d  | [2024-04-08 07:44:36.299 42dc2ee5a3f7:1 INFO profiler_config_parser.py:111] Unable to find config at /opt/ml/input/config/profilerconfig.json. Profiler is disabled.\n",
      "ivj5rbwx8e-algo-1-r8i9d  | [2024-04-08:07:44:38:INFO] Imported framework sagemaker_xgboost_container.training\n",
      "ivj5rbwx8e-algo-1-r8i9d  | [2024-04-08:07:44:38:INFO] Failed to parse hyperparameter objective value reg:squarederror to Json.\n",
      "ivj5rbwx8e-algo-1-r8i9d  | Returning the value itself\n",
      "ivj5rbwx8e-algo-1-r8i9d  | [2024-04-08:07:44:38:INFO] No GPUs detected (normal if no gpus installed)\n",
      "ivj5rbwx8e-algo-1-r8i9d  | [2024-04-08:07:44:38:INFO] Invoking user training script.\n",
      "ivj5rbwx8e-algo-1-r8i9d  | [2024-04-08:07:44:40:INFO] Module abalone does not provide a setup.py. \n",
      "ivj5rbwx8e-algo-1-r8i9d  | Generating setup.py\n",
      "ivj5rbwx8e-algo-1-r8i9d  | [2024-04-08:07:44:40:INFO] Generating setup.cfg\n",
      "ivj5rbwx8e-algo-1-r8i9d  | [2024-04-08:07:44:40:INFO] Generating MANIFEST.in\n",
      "ivj5rbwx8e-algo-1-r8i9d  | [2024-04-08:07:44:40:INFO] Installing module with the following command:\n",
      "ivj5rbwx8e-algo-1-r8i9d  | /miniconda3/bin/python3 -m pip install . \n",
      "ivj5rbwx8e-algo-1-r8i9d  | Processing /opt/ml/code\n",
      "ivj5rbwx8e-algo-1-r8i9d  |   Preparing metadata (setup.py) ... \u001b[?25ldone\n",
      "ivj5rbwx8e-algo-1-r8i9d  | \u001b[?25hBuilding wheels for collected packages: abalone\n",
      "ivj5rbwx8e-algo-1-r8i9d  |   Building wheel for abalone (setup.py) ... \u001b[?25ldone\n",
      "ivj5rbwx8e-algo-1-r8i9d  | \u001b[?25h  Created wheel for abalone: filename=abalone-1.0.0-py2.py3-none-any.whl size=5603 sha256=6aa1f8a49ca1b77ec64dd0b5fb236ea00be2b1fbea541e79485c0e4a05abac94\n",
      "ivj5rbwx8e-algo-1-r8i9d  |   Stored in directory: /home/model-server/tmp/pip-ephem-wheel-cache-zskvi3l1/wheels/f3/75/57/158162e9eab7af12b5c338c279b3a81f103b89d74eeb911c00\n",
      "ivj5rbwx8e-algo-1-r8i9d  | Successfully built abalone\n",
      "ivj5rbwx8e-algo-1-r8i9d  | Installing collected packages: abalone\n",
      "ivj5rbwx8e-algo-1-r8i9d  | Successfully installed abalone-1.0.0\n",
      "ivj5rbwx8e-algo-1-r8i9d  | \u001b[33mWARNING: Running pip as the 'root' user can result in broken permissions and conflicting behaviour with the system package manager. It is recommended to use a virtual environment instead: https://pip.pypa.io/warnings/venv\u001b[0m\u001b[33m\n",
      "ivj5rbwx8e-algo-1-r8i9d  | \u001b[0m[2024-04-08:07:44:50:INFO] Failed to parse hyperparameter objective value reg:squarederror to Json.\n",
      "ivj5rbwx8e-algo-1-r8i9d  | Returning the value itself\n",
      "ivj5rbwx8e-algo-1-r8i9d  | [2024-04-08:07:44:50:INFO] No GPUs detected (normal if no gpus installed)\n",
      "ivj5rbwx8e-algo-1-r8i9d  | [2024-04-08:07:44:50:INFO] Invoking user script\n",
      "ivj5rbwx8e-algo-1-r8i9d  | \n",
      "ivj5rbwx8e-algo-1-r8i9d  | Training Env:\n",
      "ivj5rbwx8e-algo-1-r8i9d  | \n",
      "ivj5rbwx8e-algo-1-r8i9d  | {\n",
      "ivj5rbwx8e-algo-1-r8i9d  |     \"additional_framework_parameters\": {},\n",
      "ivj5rbwx8e-algo-1-r8i9d  |     \"channel_input_dirs\": {\n",
      "ivj5rbwx8e-algo-1-r8i9d  |         \"train\": \"/opt/ml/input/data/train\",\n",
      "ivj5rbwx8e-algo-1-r8i9d  |         \"validation\": \"/opt/ml/input/data/validation\"\n",
      "ivj5rbwx8e-algo-1-r8i9d  |     },\n",
      "ivj5rbwx8e-algo-1-r8i9d  |     \"current_host\": \"algo-1-r8i9d\",\n",
      "ivj5rbwx8e-algo-1-r8i9d  |     \"framework_module\": \"sagemaker_xgboost_container.training:main\",\n",
      "ivj5rbwx8e-algo-1-r8i9d  |     \"hosts\": [\n",
      "ivj5rbwx8e-algo-1-r8i9d  |         \"algo-1-r8i9d\"\n",
      "ivj5rbwx8e-algo-1-r8i9d  |     ],\n",
      "ivj5rbwx8e-algo-1-r8i9d  |     \"hyperparameters\": {\n",
      "ivj5rbwx8e-algo-1-r8i9d  |         \"objective\": \"reg:squarederror\",\n",
      "ivj5rbwx8e-algo-1-r8i9d  |         \"learning_rate\": 0.01,\n",
      "ivj5rbwx8e-algo-1-r8i9d  |         \"num_round\": 50,\n",
      "ivj5rbwx8e-algo-1-r8i9d  |         \"max_depth\": 5,\n",
      "ivj5rbwx8e-algo-1-r8i9d  |         \"eta\": 0.2,\n",
      "ivj5rbwx8e-algo-1-r8i9d  |         \"gamma\": 4,\n",
      "ivj5rbwx8e-algo-1-r8i9d  |         \"min_child_weight\": 6,\n",
      "ivj5rbwx8e-algo-1-r8i9d  |         \"subsample\": 0.7\n",
      "ivj5rbwx8e-algo-1-r8i9d  |     },\n",
      "ivj5rbwx8e-algo-1-r8i9d  |     \"input_config_dir\": \"/opt/ml/input/config\",\n",
      "ivj5rbwx8e-algo-1-r8i9d  |     \"input_data_config\": {\n",
      "ivj5rbwx8e-algo-1-r8i9d  |         \"train\": {\n",
      "ivj5rbwx8e-algo-1-r8i9d  |             \"TrainingInputMode\": \"File\",\n",
      "ivj5rbwx8e-algo-1-r8i9d  |             \"ContentType\": \"text/csv\"\n",
      "ivj5rbwx8e-algo-1-r8i9d  |         },\n",
      "ivj5rbwx8e-algo-1-r8i9d  |         \"validation\": {\n",
      "ivj5rbwx8e-algo-1-r8i9d  |             \"TrainingInputMode\": \"File\",\n",
      "ivj5rbwx8e-algo-1-r8i9d  |             \"ContentType\": \"text/csv\"\n",
      "ivj5rbwx8e-algo-1-r8i9d  |         }\n",
      "ivj5rbwx8e-algo-1-r8i9d  |     },\n",
      "ivj5rbwx8e-algo-1-r8i9d  |     \"input_dir\": \"/opt/ml/input\",\n",
      "ivj5rbwx8e-algo-1-r8i9d  |     \"is_master\": true,\n",
      "ivj5rbwx8e-algo-1-r8i9d  |     \"job_name\": \"AbaloneTrain-1712561402-30d6\",\n",
      "ivj5rbwx8e-algo-1-r8i9d  |     \"log_level\": 20,\n",
      "ivj5rbwx8e-algo-1-r8i9d  |     \"master_hostname\": \"algo-1-r8i9d\",\n",
      "ivj5rbwx8e-algo-1-r8i9d  |     \"model_dir\": \"/opt/ml/model\",\n",
      "ivj5rbwx8e-algo-1-r8i9d  |     \"module_dir\": \"s3://sagemaker-ap-southeast-1-879654127886/LocalModelPipeline/code/eb67df0d53fdce5b483bbde46a017e78/sourcedir.tar.gz\",\n",
      "ivj5rbwx8e-algo-1-r8i9d  |     \"module_name\": \"abalone\",\n",
      "ivj5rbwx8e-algo-1-r8i9d  |     \"network_interface_name\": \"eth0\",\n",
      "ivj5rbwx8e-algo-1-r8i9d  |     \"num_cpus\": 4,\n",
      "ivj5rbwx8e-algo-1-r8i9d  |     \"num_gpus\": 0,\n",
      "ivj5rbwx8e-algo-1-r8i9d  |     \"output_data_dir\": \"/opt/ml/output/data\",\n",
      "ivj5rbwx8e-algo-1-r8i9d  |     \"output_dir\": \"/opt/ml/output\",\n",
      "ivj5rbwx8e-algo-1-r8i9d  |     \"output_intermediate_dir\": \"/opt/ml/output/intermediate\",\n",
      "ivj5rbwx8e-algo-1-r8i9d  |     \"resource_config\": {\n",
      "ivj5rbwx8e-algo-1-r8i9d  |         \"current_host\": \"algo-1-r8i9d\",\n",
      "ivj5rbwx8e-algo-1-r8i9d  |         \"hosts\": [\n",
      "ivj5rbwx8e-algo-1-r8i9d  |             \"algo-1-r8i9d\"\n",
      "ivj5rbwx8e-algo-1-r8i9d  |         ]\n",
      "ivj5rbwx8e-algo-1-r8i9d  |     },\n",
      "ivj5rbwx8e-algo-1-r8i9d  |     \"user_entry_point\": \"abalone.py\"\n",
      "ivj5rbwx8e-algo-1-r8i9d  | }\n",
      "ivj5rbwx8e-algo-1-r8i9d  | \n",
      "ivj5rbwx8e-algo-1-r8i9d  | Environment variables:\n",
      "ivj5rbwx8e-algo-1-r8i9d  | \n",
      "ivj5rbwx8e-algo-1-r8i9d  | SM_HOSTS=[\"algo-1-r8i9d\"]\n",
      "ivj5rbwx8e-algo-1-r8i9d  | SM_NETWORK_INTERFACE_NAME=eth0\n",
      "ivj5rbwx8e-algo-1-r8i9d  | SM_HPS={\"eta\":0.2,\"gamma\":4,\"learning_rate\":0.01,\"max_depth\":5,\"min_child_weight\":6,\"num_round\":50,\"objective\":\"reg:squarederror\",\"subsample\":0.7}\n",
      "ivj5rbwx8e-algo-1-r8i9d  | SM_USER_ENTRY_POINT=abalone.py\n",
      "ivj5rbwx8e-algo-1-r8i9d  | SM_FRAMEWORK_PARAMS={}\n",
      "ivj5rbwx8e-algo-1-r8i9d  | SM_RESOURCE_CONFIG={\"current_host\":\"algo-1-r8i9d\",\"hosts\":[\"algo-1-r8i9d\"]}\n",
      "ivj5rbwx8e-algo-1-r8i9d  | SM_INPUT_DATA_CONFIG={\"train\":{\"ContentType\":\"text/csv\",\"TrainingInputMode\":\"File\"},\"validation\":{\"ContentType\":\"text/csv\",\"TrainingInputMode\":\"File\"}}\n",
      "ivj5rbwx8e-algo-1-r8i9d  | SM_OUTPUT_DATA_DIR=/opt/ml/output/data\n",
      "ivj5rbwx8e-algo-1-r8i9d  | SM_CHANNELS=[\"train\",\"validation\"]\n",
      "ivj5rbwx8e-algo-1-r8i9d  | SM_CURRENT_HOST=algo-1-r8i9d\n",
      "ivj5rbwx8e-algo-1-r8i9d  | SM_MODULE_NAME=abalone\n",
      "ivj5rbwx8e-algo-1-r8i9d  | SM_LOG_LEVEL=20\n",
      "ivj5rbwx8e-algo-1-r8i9d  | SM_FRAMEWORK_MODULE=sagemaker_xgboost_container.training:main\n",
      "ivj5rbwx8e-algo-1-r8i9d  | SM_INPUT_DIR=/opt/ml/input\n",
      "ivj5rbwx8e-algo-1-r8i9d  | SM_INPUT_CONFIG_DIR=/opt/ml/input/config\n",
      "ivj5rbwx8e-algo-1-r8i9d  | SM_OUTPUT_DIR=/opt/ml/output\n",
      "ivj5rbwx8e-algo-1-r8i9d  | SM_NUM_CPUS=4\n",
      "ivj5rbwx8e-algo-1-r8i9d  | SM_NUM_GPUS=0\n",
      "ivj5rbwx8e-algo-1-r8i9d  | SM_MODEL_DIR=/opt/ml/model\n",
      "ivj5rbwx8e-algo-1-r8i9d  | SM_MODULE_DIR=s3://sagemaker-ap-southeast-1-879654127886/LocalModelPipeline/code/eb67df0d53fdce5b483bbde46a017e78/sourcedir.tar.gz\n",
      "ivj5rbwx8e-algo-1-r8i9d  | SM_TRAINING_ENV={\"additional_framework_parameters\":{},\"channel_input_dirs\":{\"train\":\"/opt/ml/input/data/train\",\"validation\":\"/opt/ml/input/data/validation\"},\"current_host\":\"algo-1-r8i9d\",\"framework_module\":\"sagemaker_xgboost_container.training:main\",\"hosts\":[\"algo-1-r8i9d\"],\"hyperparameters\":{\"eta\":0.2,\"gamma\":4,\"learning_rate\":0.01,\"max_depth\":5,\"min_child_weight\":6,\"num_round\":50,\"objective\":\"reg:squarederror\",\"subsample\":0.7},\"input_config_dir\":\"/opt/ml/input/config\",\"input_data_config\":{\"train\":{\"ContentType\":\"text/csv\",\"TrainingInputMode\":\"File\"},\"validation\":{\"ContentType\":\"text/csv\",\"TrainingInputMode\":\"File\"}},\"input_dir\":\"/opt/ml/input\",\"is_master\":true,\"job_name\":\"AbaloneTrain-1712561402-30d6\",\"log_level\":20,\"master_hostname\":\"algo-1-r8i9d\",\"model_dir\":\"/opt/ml/model\",\"module_dir\":\"s3://sagemaker-ap-southeast-1-879654127886/LocalModelPipeline/code/eb67df0d53fdce5b483bbde46a017e78/sourcedir.tar.gz\",\"module_name\":\"abalone\",\"network_interface_name\":\"eth0\",\"num_cpus\":4,\"num_gpus\":0,\"output_data_dir\":\"/opt/ml/output/data\",\"output_dir\":\"/opt/ml/output\",\"output_intermediate_dir\":\"/opt/ml/output/intermediate\",\"resource_config\":{\"current_host\":\"algo-1-r8i9d\",\"hosts\":[\"algo-1-r8i9d\"]},\"user_entry_point\":\"abalone.py\"}\n",
      "ivj5rbwx8e-algo-1-r8i9d  | SM_USER_ARGS=[\"--eta\",\"0.2\",\"--gamma\",\"4\",\"--learning_rate\",\"0.01\",\"--max_depth\",\"5\",\"--min_child_weight\",\"6\",\"--num_round\",\"50\",\"--objective\",\"reg:squarederror\",\"--subsample\",\"0.7\"]\n",
      "ivj5rbwx8e-algo-1-r8i9d  | SM_OUTPUT_INTERMEDIATE_DIR=/opt/ml/output/intermediate\n",
      "ivj5rbwx8e-algo-1-r8i9d  | SM_CHANNEL_TRAIN=/opt/ml/input/data/train\n",
      "ivj5rbwx8e-algo-1-r8i9d  | SM_CHANNEL_VALIDATION=/opt/ml/input/data/validation\n",
      "ivj5rbwx8e-algo-1-r8i9d  | SM_HP_OBJECTIVE=reg:squarederror\n",
      "ivj5rbwx8e-algo-1-r8i9d  | SM_HP_LEARNING_RATE=0.01\n",
      "ivj5rbwx8e-algo-1-r8i9d  | SM_HP_NUM_ROUND=50\n",
      "ivj5rbwx8e-algo-1-r8i9d  | SM_HP_MAX_DEPTH=5\n",
      "ivj5rbwx8e-algo-1-r8i9d  | SM_HP_ETA=0.2\n",
      "ivj5rbwx8e-algo-1-r8i9d  | SM_HP_GAMMA=4\n",
      "ivj5rbwx8e-algo-1-r8i9d  | SM_HP_MIN_CHILD_WEIGHT=6\n",
      "ivj5rbwx8e-algo-1-r8i9d  | SM_HP_SUBSAMPLE=0.7\n",
      "ivj5rbwx8e-algo-1-r8i9d  | PYTHONPATH=/miniconda3/bin:/:/miniconda3/lib/python/site-packages/xgboost/dmlc-core/tracker:/miniconda3/lib/python38.zip:/miniconda3/lib/python3.8:/miniconda3/lib/python3.8/lib-dynload:/miniconda3/lib/python3.8/site-packages\n",
      "ivj5rbwx8e-algo-1-r8i9d  | \n",
      "ivj5rbwx8e-algo-1-r8i9d  | Invoking script with the following command:\n",
      "ivj5rbwx8e-algo-1-r8i9d  | \n",
      "ivj5rbwx8e-algo-1-r8i9d  | /miniconda3/bin/python3 -m abalone --eta 0.2 --gamma 4 --learning_rate 0.01 --max_depth 5 --min_child_weight 6 --num_round 50 --objective reg:squarederror --subsample 0.7\n",
      "ivj5rbwx8e-algo-1-r8i9d  | \n",
      "ivj5rbwx8e-algo-1-r8i9d  | \n",
      "ivj5rbwx8e-algo-1-r8i9d  | <jemalloc>: MADV_DONTNEED does not work (memset will be used instead)\n",
      "ivj5rbwx8e-algo-1-r8i9d  | <jemalloc>: (This is the expected behaviour if you are running under QEMU)\n",
      "ivj5rbwx8e-algo-1-r8i9d  | /miniconda3/lib/python3.8/site-packages/xgboost/compat.py:36: FutureWarning: pandas.Int64Index is deprecated and will be removed from pandas in a future version. Use pandas.Index with the appropriate dtype instead.\n",
      "ivj5rbwx8e-algo-1-r8i9d  |   from pandas import MultiIndex, Int64Index\n",
      "ivj5rbwx8e-algo-1-r8i9d  | [0]\ttrain-rmse:9.84190\tvalidation-rmse:9.86999\n",
      "ivj5rbwx8e-algo-1-r8i9d  | [1]\ttrain-rmse:9.74956\tvalidation-rmse:9.77840\n",
      "ivj5rbwx8e-algo-1-r8i9d  | [2]\ttrain-rmse:9.65779\tvalidation-rmse:9.68739\n",
      "ivj5rbwx8e-algo-1-r8i9d  | [3]\ttrain-rmse:9.56722\tvalidation-rmse:9.59688\n",
      "ivj5rbwx8e-algo-1-r8i9d  | [4]\ttrain-rmse:9.47755\tvalidation-rmse:9.50716\n",
      "ivj5rbwx8e-algo-1-r8i9d  | [5]\ttrain-rmse:9.38848\tvalidation-rmse:9.41817\n",
      "ivj5rbwx8e-algo-1-r8i9d  | [6]\ttrain-rmse:9.30001\tvalidation-rmse:9.32992\n",
      "ivj5rbwx8e-algo-1-r8i9d  | [7]\ttrain-rmse:9.21308\tvalidation-rmse:9.24341\n",
      "ivj5rbwx8e-algo-1-r8i9d  | [8]\ttrain-rmse:9.12754\tvalidation-rmse:9.15826\n",
      "ivj5rbwx8e-algo-1-r8i9d  | [9]\ttrain-rmse:9.04226\tvalidation-rmse:9.07339\n",
      "ivj5rbwx8e-algo-1-r8i9d  | [10]\ttrain-rmse:8.95794\tvalidation-rmse:8.98876\n",
      "ivj5rbwx8e-algo-1-r8i9d  | [11]\ttrain-rmse:8.87471\tvalidation-rmse:8.90538\n",
      "ivj5rbwx8e-algo-1-r8i9d  | [12]\ttrain-rmse:8.79209\tvalidation-rmse:8.82379\n",
      "ivj5rbwx8e-algo-1-r8i9d  | [13]\ttrain-rmse:8.71096\tvalidation-rmse:8.74300\n",
      "ivj5rbwx8e-algo-1-r8i9d  | [14]\ttrain-rmse:8.63027\tvalidation-rmse:8.66321\n",
      "ivj5rbwx8e-algo-1-r8i9d  | [15]\ttrain-rmse:8.55003\tvalidation-rmse:8.58375\n",
      "ivj5rbwx8e-algo-1-r8i9d  | [16]\ttrain-rmse:8.47172\tvalidation-rmse:8.50604\n",
      "ivj5rbwx8e-algo-1-r8i9d  | [17]\ttrain-rmse:8.39325\tvalidation-rmse:8.42779\n",
      "ivj5rbwx8e-algo-1-r8i9d  | [18]\ttrain-rmse:8.31582\tvalidation-rmse:8.35012\n",
      "ivj5rbwx8e-algo-1-r8i9d  | [19]\ttrain-rmse:8.23910\tvalidation-rmse:8.27332\n",
      "ivj5rbwx8e-algo-1-r8i9d  | [20]\ttrain-rmse:8.16363\tvalidation-rmse:8.19800\n",
      "ivj5rbwx8e-algo-1-r8i9d  | [21]\ttrain-rmse:8.08882\tvalidation-rmse:8.12392\n",
      "ivj5rbwx8e-algo-1-r8i9d  | [22]\ttrain-rmse:8.01483\tvalidation-rmse:8.04962\n",
      "ivj5rbwx8e-algo-1-r8i9d  | [23]\ttrain-rmse:7.94121\tvalidation-rmse:7.97579\n",
      "ivj5rbwx8e-algo-1-r8i9d  | [24]\ttrain-rmse:7.86900\tvalidation-rmse:7.90344\n",
      "ivj5rbwx8e-algo-1-r8i9d  | [25]\ttrain-rmse:7.79728\tvalidation-rmse:7.83238\n",
      "ivj5rbwx8e-algo-1-r8i9d  | [26]\ttrain-rmse:7.72580\tvalidation-rmse:7.76129\n",
      "ivj5rbwx8e-algo-1-r8i9d  | [27]\ttrain-rmse:7.65544\tvalidation-rmse:7.69078\n",
      "ivj5rbwx8e-algo-1-r8i9d  | [28]\ttrain-rmse:7.58584\tvalidation-rmse:7.62138\n",
      "ivj5rbwx8e-algo-1-r8i9d  | [29]\ttrain-rmse:7.51672\tvalidation-rmse:7.55240\n",
      "ivj5rbwx8e-algo-1-r8i9d  | [30]\ttrain-rmse:7.44873\tvalidation-rmse:7.48449\n",
      "ivj5rbwx8e-algo-1-r8i9d  | [31]\ttrain-rmse:7.38097\tvalidation-rmse:7.41747\n",
      "ivj5rbwx8e-algo-1-r8i9d  | [32]\ttrain-rmse:7.31407\tvalidation-rmse:7.35122\n",
      "ivj5rbwx8e-algo-1-r8i9d  | [33]\ttrain-rmse:7.24867\tvalidation-rmse:7.28609\n",
      "ivj5rbwx8e-algo-1-r8i9d  | [34]\ttrain-rmse:7.18312\tvalidation-rmse:7.22067\n",
      "ivj5rbwx8e-algo-1-r8i9d  | [35]\ttrain-rmse:7.11853\tvalidation-rmse:7.15655\n",
      "ivj5rbwx8e-algo-1-r8i9d  | [36]\ttrain-rmse:7.05407\tvalidation-rmse:7.09180\n",
      "ivj5rbwx8e-algo-1-r8i9d  | [37]\ttrain-rmse:6.99090\tvalidation-rmse:7.02820\n",
      "ivj5rbwx8e-algo-1-r8i9d  | [38]\ttrain-rmse:6.92782\tvalidation-rmse:6.96576\n",
      "ivj5rbwx8e-algo-1-r8i9d  | [39]\ttrain-rmse:6.86622\tvalidation-rmse:6.90502\n",
      "ivj5rbwx8e-algo-1-r8i9d  | [40]\ttrain-rmse:6.80521\tvalidation-rmse:6.84437\n",
      "ivj5rbwx8e-algo-1-r8i9d  | [41]\ttrain-rmse:6.74481\tvalidation-rmse:6.78412\n",
      "ivj5rbwx8e-algo-1-r8i9d  | [42]\ttrain-rmse:6.68461\tvalidation-rmse:6.72438\n",
      "ivj5rbwx8e-algo-1-r8i9d  | [43]\ttrain-rmse:6.62505\tvalidation-rmse:6.66533\n",
      "ivj5rbwx8e-algo-1-r8i9d  | [44]\ttrain-rmse:6.56650\tvalidation-rmse:6.60737\n",
      "ivj5rbwx8e-algo-1-r8i9d  | [45]\ttrain-rmse:6.50861\tvalidation-rmse:6.54903\n",
      "ivj5rbwx8e-algo-1-r8i9d  | [46]\ttrain-rmse:6.45087\tvalidation-rmse:6.49169\n",
      "ivj5rbwx8e-algo-1-r8i9d  | [47]\ttrain-rmse:6.39446\tvalidation-rmse:6.43577\n",
      "ivj5rbwx8e-algo-1-r8i9d  | [48]\ttrain-rmse:6.33847\tvalidation-rmse:6.38055\n",
      "ivj5rbwx8e-algo-1-r8i9d  | [49]\ttrain-rmse:6.28309\tvalidation-rmse:6.32561\n",
      "ivj5rbwx8e-algo-1-r8i9d  | INFO:root:Stored trained model at /opt/ml/model/xgboost-model\n"
     ]
    },
    {
     "name": "stderr",
     "output_type": "stream",
     "text": [
      "INFO:root:creating /private/var/folders/11/8pq7lf2166bbtfcvp2m1z20c0000gn/T/tmpyrgi8yqe/artifacts/output/data\n",
      "INFO:root:copying /private/var/folders/11/8pq7lf2166bbtfcvp2m1z20c0000gn/T/tmpyrgi8yqe/model/xgboost-model -> /private/var/folders/11/8pq7lf2166bbtfcvp2m1z20c0000gn/T/tmpyrgi8yqe/artifacts/model\n"
     ]
    },
    {
     "name": "stdout",
     "output_type": "stream",
     "text": [
      "ivj5rbwx8e-algo-1-r8i9d exited with code 0\n",
      "Aborting on container exit...\n",
      " Container ivj5rbwx8e-algo-1-r8i9d  Stopping\n",
      " Container ivj5rbwx8e-algo-1-r8i9d  Stopped\n"
     ]
    },
    {
     "name": "stderr",
     "output_type": "stream",
     "text": [
      "INFO:sagemaker.local.image:===== Job Complete =====\n",
      "INFO:sagemaker.local.entities:Pipeline step 'AbaloneTrain' SUCCEEDED.\n",
      "INFO:sagemaker.local.entities:Starting pipeline step: 'AbaloneEval'\n",
      "INFO:sagemaker.local.image:'Docker Compose' found using Docker CLI.\n",
      "INFO:sagemaker.local.local_session:Starting processing job\n",
      "INFO:sagemaker.local.image:Using the long-lived AWS credentials found in session\n",
      "INFO:sagemaker.local.image:docker compose file: \n",
      "networks:\n",
      "  sagemaker-local:\n",
      "    name: sagemaker-local\n",
      "services:\n",
      "  algo-1-9gxlu:\n",
      "    container_name: usexdrcyif-algo-1-9gxlu\n",
      "    entrypoint:\n",
      "    - python3\n",
      "    - /opt/ml/processing/input/code/evaluation.py\n",
      "    environment:\n",
      "    - '[Masked]'\n",
      "    - '[Masked]'\n",
      "    image: 121021644041.dkr.ecr.ap-southeast-1.amazonaws.com/sagemaker-xgboost:1.5-1\n",
      "    networks:\n",
      "      sagemaker-local:\n",
      "        aliases:\n",
      "        - algo-1-9gxlu\n",
      "    stdin_open: true\n",
      "    tty: true\n",
      "    volumes:\n",
      "    - /private/var/folders/11/8pq7lf2166bbtfcvp2m1z20c0000gn/T/tmpa3bxboxg/algo-1-9gxlu/config:/opt/ml/config\n",
      "    - /private/var/folders/11/8pq7lf2166bbtfcvp2m1z20c0000gn/T/tmpa3bxboxg/algo-1-9gxlu/output:/opt/ml/output\n",
      "    - /private/var/folders/11/8pq7lf2166bbtfcvp2m1z20c0000gn/T/tmpbnrgmycg:/opt/ml/processing/model\n",
      "    - /private/var/folders/11/8pq7lf2166bbtfcvp2m1z20c0000gn/T/tmp6fithrxf:/opt/ml/processing/test\n",
      "    - /private/var/folders/11/8pq7lf2166bbtfcvp2m1z20c0000gn/T/tmpzu_f0twc:/opt/ml/processing/input/code\n",
      "    - /private/var/folders/11/8pq7lf2166bbtfcvp2m1z20c0000gn/T/tmp8jf6dv6r/output/evaluation:/opt/ml/processing/evaluation\n",
      "    - /private/var/folders/11/8pq7lf2166bbtfcvp2m1z20c0000gn/T/tmpa3bxboxg/shared:/opt/ml/shared\n",
      "version: '2.3'\n",
      "\n",
      "INFO:sagemaker.local.image:docker command: docker compose -f /private/var/folders/11/8pq7lf2166bbtfcvp2m1z20c0000gn/T/tmpa3bxboxg/docker-compose.yaml up --build --abort-on-container-exit\n"
     ]
    },
    {
     "name": "stdout",
     "output_type": "stream",
     "text": [
      "time=\"2024-04-08T14:45:10+07:00\" level=warning msg=\"a network with name sagemaker-local exists but was not created for project \\\"tmpa3bxboxg\\\".\\nSet `external: true` to use an existing network\"\n",
      " Container usexdrcyif-algo-1-9gxlu  Creating\n",
      " algo-1-9gxlu The requested image's platform (linux/amd64) does not match the detected host platform (linux/arm64/v8) and no specific platform was requested \n",
      " Container usexdrcyif-algo-1-9gxlu  Created\n",
      "Attaching to usexdrcyif-algo-1-9gxlu\n",
      "usexdrcyif-algo-1-9gxlu  | <jemalloc>: MADV_DONTNEED does not work (memset will be used instead)\n",
      "usexdrcyif-algo-1-9gxlu  | <jemalloc>: (This is the expected behaviour if you are running under QEMU)\n",
      "usexdrcyif-algo-1-9gxlu  | /miniconda3/lib/python3.8/site-packages/xgboost/compat.py:36: FutureWarning: pandas.Int64Index is deprecated and will be removed from pandas in a future version. Use pandas.Index with the appropriate dtype instead.\n",
      "usexdrcyif-algo-1-9gxlu  |   from pandas import MultiIndex, Int64Index\n",
      "usexdrcyif-algo-1-9gxlu exited with code 0\n",
      "Aborting on container exit...\n",
      " Container usexdrcyif-algo-1-9gxlu  Stopping\n",
      " Container usexdrcyif-algo-1-9gxlu  Stopped\n"
     ]
    },
    {
     "name": "stderr",
     "output_type": "stream",
     "text": [
      "INFO:sagemaker.local.image:===== Job Complete =====\n",
      "INFO:sagemaker.local.entities:Pipeline step 'AbaloneEval' SUCCEEDED.\n",
      "INFO:sagemaker.local.entities:Starting pipeline step: 'AbaloneMSECond'\n",
      "INFO:sagemaker.local.entities:Pipeline step 'AbaloneMSECond' SUCCEEDED.\n",
      "INFO:sagemaker.local.entities:Starting pipeline step: 'AbaloneCreateModel-RepackModel-0'\n",
      "INFO:sagemaker.local.image:'Docker Compose' found using Docker CLI.\n",
      "INFO:sagemaker.local.local_session:Starting training job\n",
      "INFO:sagemaker.local.image:Using the long-lived AWS credentials found in session\n",
      "INFO:sagemaker.local.image:docker compose file: \n",
      "networks:\n",
      "  sagemaker-local:\n",
      "    name: sagemaker-local\n",
      "services:\n",
      "  algo-1-5gw4d:\n",
      "    command: train\n",
      "    container_name: 9e65ccx0dv-algo-1-5gw4d\n",
      "    environment:\n",
      "    - '[Masked]'\n",
      "    - '[Masked]'\n",
      "    - '[Masked]'\n",
      "    - '[Masked]'\n",
      "    - '[Masked]'\n",
      "    image: 121021644041.dkr.ecr.ap-southeast-1.amazonaws.com/sagemaker-scikit-learn:0.23-1-cpu-py3\n",
      "    networks:\n",
      "      sagemaker-local:\n",
      "        aliases:\n",
      "        - algo-1-5gw4d\n",
      "    stdin_open: true\n",
      "    tty: true\n",
      "    volumes:\n",
      "    - /private/var/folders/11/8pq7lf2166bbtfcvp2m1z20c0000gn/T/tmpm20_rqcu/algo-1-5gw4d/output/data:/opt/ml/output/data\n",
      "    - /private/var/folders/11/8pq7lf2166bbtfcvp2m1z20c0000gn/T/tmpm20_rqcu/algo-1-5gw4d/output:/opt/ml/output\n",
      "    - /private/var/folders/11/8pq7lf2166bbtfcvp2m1z20c0000gn/T/tmpm20_rqcu/algo-1-5gw4d/input:/opt/ml/input\n",
      "    - /private/var/folders/11/8pq7lf2166bbtfcvp2m1z20c0000gn/T/tmpm20_rqcu/model:/opt/ml/model\n",
      "    - /private/var/folders/11/8pq7lf2166bbtfcvp2m1z20c0000gn/T/tmp1fd2waqa:/opt/ml/input/data/training\n",
      "version: '2.3'\n",
      "\n",
      "INFO:sagemaker.local.image:docker command: docker pull 121021644041.dkr.ecr.ap-southeast-1.amazonaws.com/sagemaker-scikit-learn:0.23-1-cpu-py3\n"
     ]
    },
    {
     "name": "stdout",
     "output_type": "stream",
     "text": [
      "Login Succeeded\n"
     ]
    },
    {
     "name": "stderr",
     "output_type": "stream",
     "text": [
      "\n",
      "What's Next?\n",
      "  View a summary of image vulnerabilities and recommendations → docker scout quickview 121021644041.dkr.ecr.ap-southeast-1.amazonaws.com/sagemaker-scikit-learn:0.23-1-cpu-py3\n",
      "INFO:sagemaker.local.image:image pulled: 121021644041.dkr.ecr.ap-southeast-1.amazonaws.com/sagemaker-scikit-learn:0.23-1-cpu-py3\n",
      "INFO:sagemaker.local.image:docker command: docker compose -f /private/var/folders/11/8pq7lf2166bbtfcvp2m1z20c0000gn/T/tmpm20_rqcu/docker-compose.yaml up --build --abort-on-container-exit\n"
     ]
    },
    {
     "name": "stdout",
     "output_type": "stream",
     "text": [
      "time=\"2024-04-08T14:56:52+07:00\" level=warning msg=\"a network with name sagemaker-local exists but was not created for project \\\"tmpm20_rqcu\\\".\\nSet `external: true` to use an existing network\"\n",
      " Container 9e65ccx0dv-algo-1-5gw4d  Creating\n",
      " algo-1-5gw4d The requested image's platform (linux/amd64) does not match the detected host platform (linux/arm64/v8) and no specific platform was requested \n",
      " Container 9e65ccx0dv-algo-1-5gw4d  Created\n",
      "Attaching to 9e65ccx0dv-algo-1-5gw4d\n",
      "9e65ccx0dv-algo-1-5gw4d  | 2024-04-08 07:56:59,725 sagemaker-containers INFO     Imported framework sagemaker_sklearn_container.training\n",
      "9e65ccx0dv-algo-1-5gw4d  | 2024-04-08 07:56:59,734 sagemaker-training-toolkit INFO     No GPUs detected (normal if no gpus installed)\n",
      "9e65ccx0dv-algo-1-5gw4d  | 2024-04-08 07:56:59,739 sagemaker-training-toolkit INFO     Failed to parse hyperparameter model_archive value s3://sagemaker-ap-southeast-1-879654127886/sagemaker-pipelines-local-mode-example/model/AbaloneTrain-1712561402-30d6/output/model.tar.gz to Json.\n",
      "9e65ccx0dv-algo-1-5gw4d  | Returning the value itself\n",
      "9e65ccx0dv-algo-1-5gw4d  | 2024-04-08 07:56:59,815 sagemaker_sklearn_container.training INFO     Invoking user training script.\n",
      "9e65ccx0dv-algo-1-5gw4d  | 2024-04-08 07:57:01,583 sagemaker-training-toolkit INFO     No GPUs detected (normal if no gpus installed)\n",
      "9e65ccx0dv-algo-1-5gw4d  | 2024-04-08 07:57:01,585 sagemaker-training-toolkit INFO     Failed to parse hyperparameter model_archive value s3://sagemaker-ap-southeast-1-879654127886/sagemaker-pipelines-local-mode-example/model/AbaloneTrain-1712561402-30d6/output/model.tar.gz to Json.\n",
      "9e65ccx0dv-algo-1-5gw4d  | Returning the value itself\n",
      "9e65ccx0dv-algo-1-5gw4d  | 2024-04-08 07:57:01,641 sagemaker-training-toolkit INFO     No GPUs detected (normal if no gpus installed)\n",
      "9e65ccx0dv-algo-1-5gw4d  | 2024-04-08 07:57:01,645 sagemaker-training-toolkit INFO     Failed to parse hyperparameter model_archive value s3://sagemaker-ap-southeast-1-879654127886/sagemaker-pipelines-local-mode-example/model/AbaloneTrain-1712561402-30d6/output/model.tar.gz to Json.\n",
      "9e65ccx0dv-algo-1-5gw4d  | Returning the value itself\n",
      "9e65ccx0dv-algo-1-5gw4d  | 2024-04-08 07:57:01,721 sagemaker-training-toolkit INFO     No GPUs detected (normal if no gpus installed)\n",
      "9e65ccx0dv-algo-1-5gw4d  | 2024-04-08 07:57:01,724 sagemaker-training-toolkit INFO     Failed to parse hyperparameter model_archive value s3://sagemaker-ap-southeast-1-879654127886/sagemaker-pipelines-local-mode-example/model/AbaloneTrain-1712561402-30d6/output/model.tar.gz to Json.\n",
      "9e65ccx0dv-algo-1-5gw4d  | Returning the value itself\n",
      "9e65ccx0dv-algo-1-5gw4d  | 2024-04-08 07:57:01,764 sagemaker-training-toolkit INFO     Invoking user script\n",
      "9e65ccx0dv-algo-1-5gw4d  | \n",
      "9e65ccx0dv-algo-1-5gw4d  | Training Env:\n",
      "9e65ccx0dv-algo-1-5gw4d  | \n",
      "9e65ccx0dv-algo-1-5gw4d  | {\n",
      "9e65ccx0dv-algo-1-5gw4d  |     \"additional_framework_parameters\": {},\n",
      "9e65ccx0dv-algo-1-5gw4d  |     \"channel_input_dirs\": {\n",
      "9e65ccx0dv-algo-1-5gw4d  |         \"training\": \"/opt/ml/input/data/training\"\n",
      "9e65ccx0dv-algo-1-5gw4d  |     },\n",
      "9e65ccx0dv-algo-1-5gw4d  |     \"current_host\": \"algo-1-5gw4d\",\n",
      "9e65ccx0dv-algo-1-5gw4d  |     \"framework_module\": \"sagemaker_sklearn_container.training:main\",\n",
      "9e65ccx0dv-algo-1-5gw4d  |     \"hosts\": [\n",
      "9e65ccx0dv-algo-1-5gw4d  |         \"algo-1-5gw4d\"\n",
      "9e65ccx0dv-algo-1-5gw4d  |     ],\n",
      "9e65ccx0dv-algo-1-5gw4d  |     \"hyperparameters\": {\n",
      "9e65ccx0dv-algo-1-5gw4d  |         \"inference_script\": \"inference.py\",\n",
      "9e65ccx0dv-algo-1-5gw4d  |         \"model_archive\": \"s3://sagemaker-ap-southeast-1-879654127886/sagemaker-pipelines-local-mode-example/model/AbaloneTrain-1712561402-30d6/output/model.tar.gz\",\n",
      "9e65ccx0dv-algo-1-5gw4d  |         \"dependencies\": null,\n",
      "9e65ccx0dv-algo-1-5gw4d  |         \"source_dir\": \"code\"\n",
      "9e65ccx0dv-algo-1-5gw4d  |     },\n",
      "9e65ccx0dv-algo-1-5gw4d  |     \"input_config_dir\": \"/opt/ml/input/config\",\n",
      "9e65ccx0dv-algo-1-5gw4d  |     \"input_data_config\": {\n",
      "9e65ccx0dv-algo-1-5gw4d  |         \"training\": {\n",
      "9e65ccx0dv-algo-1-5gw4d  |             \"TrainingInputMode\": \"File\"\n",
      "9e65ccx0dv-algo-1-5gw4d  |         }\n",
      "9e65ccx0dv-algo-1-5gw4d  |     },\n",
      "9e65ccx0dv-algo-1-5gw4d  |     \"input_dir\": \"/opt/ml/input\",\n",
      "9e65ccx0dv-algo-1-5gw4d  |     \"is_master\": true,\n",
      "9e65ccx0dv-algo-1-5gw4d  |     \"job_name\": \"AbaloneCreateModel-RepackModel-0-1712562324-8755\",\n",
      "9e65ccx0dv-algo-1-5gw4d  |     \"log_level\": 20,\n",
      "9e65ccx0dv-algo-1-5gw4d  |     \"master_hostname\": \"algo-1-5gw4d\",\n",
      "9e65ccx0dv-algo-1-5gw4d  |     \"model_dir\": \"/opt/ml/model\",\n",
      "9e65ccx0dv-algo-1-5gw4d  |     \"module_dir\": \"s3://sagemaker-ap-southeast-1-879654127886/AbaloneCreateModel-RepackModel-0-ce903db24aef59643c8f2a4c6a44cfe6/source/sourcedir.tar.gz\",\n",
      "9e65ccx0dv-algo-1-5gw4d  |     \"module_name\": \"_repack_script_launcher.sh\",\n",
      "9e65ccx0dv-algo-1-5gw4d  |     \"network_interface_name\": \"eth0\",\n",
      "9e65ccx0dv-algo-1-5gw4d  |     \"num_cpus\": 4,\n",
      "9e65ccx0dv-algo-1-5gw4d  |     \"num_gpus\": 0,\n",
      "9e65ccx0dv-algo-1-5gw4d  |     \"output_data_dir\": \"/opt/ml/output/data\",\n",
      "9e65ccx0dv-algo-1-5gw4d  |     \"output_dir\": \"/opt/ml/output\",\n",
      "9e65ccx0dv-algo-1-5gw4d  |     \"output_intermediate_dir\": \"/opt/ml/output/intermediate\",\n",
      "9e65ccx0dv-algo-1-5gw4d  |     \"resource_config\": {\n",
      "9e65ccx0dv-algo-1-5gw4d  |         \"current_host\": \"algo-1-5gw4d\",\n",
      "9e65ccx0dv-algo-1-5gw4d  |         \"hosts\": [\n",
      "9e65ccx0dv-algo-1-5gw4d  |             \"algo-1-5gw4d\"\n",
      "9e65ccx0dv-algo-1-5gw4d  |         ]\n",
      "9e65ccx0dv-algo-1-5gw4d  |     },\n",
      "9e65ccx0dv-algo-1-5gw4d  |     \"user_entry_point\": \"_repack_script_launcher.sh\"\n",
      "9e65ccx0dv-algo-1-5gw4d  | }\n",
      "9e65ccx0dv-algo-1-5gw4d  | \n",
      "9e65ccx0dv-algo-1-5gw4d  | Environment variables:\n",
      "9e65ccx0dv-algo-1-5gw4d  | \n",
      "9e65ccx0dv-algo-1-5gw4d  | SM_HOSTS=[\"algo-1-5gw4d\"]\n",
      "9e65ccx0dv-algo-1-5gw4d  | SM_NETWORK_INTERFACE_NAME=eth0\n",
      "9e65ccx0dv-algo-1-5gw4d  | SM_HPS={\"dependencies\":null,\"inference_script\":\"inference.py\",\"model_archive\":\"s3://sagemaker-ap-southeast-1-879654127886/sagemaker-pipelines-local-mode-example/model/AbaloneTrain-1712561402-30d6/output/model.tar.gz\",\"source_dir\":\"code\"}\n",
      "9e65ccx0dv-algo-1-5gw4d  | SM_USER_ENTRY_POINT=_repack_script_launcher.sh\n",
      "9e65ccx0dv-algo-1-5gw4d  | SM_FRAMEWORK_PARAMS={}\n",
      "9e65ccx0dv-algo-1-5gw4d  | SM_RESOURCE_CONFIG={\"current_host\":\"algo-1-5gw4d\",\"hosts\":[\"algo-1-5gw4d\"]}\n",
      "9e65ccx0dv-algo-1-5gw4d  | SM_INPUT_DATA_CONFIG={\"training\":{\"TrainingInputMode\":\"File\"}}\n",
      "9e65ccx0dv-algo-1-5gw4d  | SM_OUTPUT_DATA_DIR=/opt/ml/output/data\n",
      "9e65ccx0dv-algo-1-5gw4d  | SM_CHANNELS=[\"training\"]\n",
      "9e65ccx0dv-algo-1-5gw4d  | SM_CURRENT_HOST=algo-1-5gw4d\n",
      "9e65ccx0dv-algo-1-5gw4d  | SM_MODULE_NAME=_repack_script_launcher.sh\n",
      "9e65ccx0dv-algo-1-5gw4d  | SM_LOG_LEVEL=20\n",
      "9e65ccx0dv-algo-1-5gw4d  | SM_FRAMEWORK_MODULE=sagemaker_sklearn_container.training:main\n",
      "9e65ccx0dv-algo-1-5gw4d  | SM_INPUT_DIR=/opt/ml/input\n",
      "9e65ccx0dv-algo-1-5gw4d  | SM_INPUT_CONFIG_DIR=/opt/ml/input/config\n",
      "9e65ccx0dv-algo-1-5gw4d  | SM_OUTPUT_DIR=/opt/ml/output\n",
      "9e65ccx0dv-algo-1-5gw4d  | SM_NUM_CPUS=4\n",
      "9e65ccx0dv-algo-1-5gw4d  | SM_NUM_GPUS=0\n",
      "9e65ccx0dv-algo-1-5gw4d  | SM_MODEL_DIR=/opt/ml/model\n",
      "9e65ccx0dv-algo-1-5gw4d  | SM_MODULE_DIR=s3://sagemaker-ap-southeast-1-879654127886/AbaloneCreateModel-RepackModel-0-ce903db24aef59643c8f2a4c6a44cfe6/source/sourcedir.tar.gz\n",
      "9e65ccx0dv-algo-1-5gw4d  | SM_TRAINING_ENV={\"additional_framework_parameters\":{},\"channel_input_dirs\":{\"training\":\"/opt/ml/input/data/training\"},\"current_host\":\"algo-1-5gw4d\",\"framework_module\":\"sagemaker_sklearn_container.training:main\",\"hosts\":[\"algo-1-5gw4d\"],\"hyperparameters\":{\"dependencies\":null,\"inference_script\":\"inference.py\",\"model_archive\":\"s3://sagemaker-ap-southeast-1-879654127886/sagemaker-pipelines-local-mode-example/model/AbaloneTrain-1712561402-30d6/output/model.tar.gz\",\"source_dir\":\"code\"},\"input_config_dir\":\"/opt/ml/input/config\",\"input_data_config\":{\"training\":{\"TrainingInputMode\":\"File\"}},\"input_dir\":\"/opt/ml/input\",\"is_master\":true,\"job_name\":\"AbaloneCreateModel-RepackModel-0-1712562324-8755\",\"log_level\":20,\"master_hostname\":\"algo-1-5gw4d\",\"model_dir\":\"/opt/ml/model\",\"module_dir\":\"s3://sagemaker-ap-southeast-1-879654127886/AbaloneCreateModel-RepackModel-0-ce903db24aef59643c8f2a4c6a44cfe6/source/sourcedir.tar.gz\",\"module_name\":\"_repack_script_launcher.sh\",\"network_interface_name\":\"eth0\",\"num_cpus\":4,\"num_gpus\":0,\"output_data_dir\":\"/opt/ml/output/data\",\"output_dir\":\"/opt/ml/output\",\"output_intermediate_dir\":\"/opt/ml/output/intermediate\",\"resource_config\":{\"current_host\":\"algo-1-5gw4d\",\"hosts\":[\"algo-1-5gw4d\"]},\"user_entry_point\":\"_repack_script_launcher.sh\"}\n",
      "9e65ccx0dv-algo-1-5gw4d  | SM_USER_ARGS=[\"--dependencies\",\"\",\"--inference_script\",\"inference.py\",\"--model_archive\",\"s3://sagemaker-ap-southeast-1-879654127886/sagemaker-pipelines-local-mode-example/model/AbaloneTrain-1712561402-30d6/output/model.tar.gz\",\"--source_dir\",\"code\"]\n",
      "9e65ccx0dv-algo-1-5gw4d  | SM_OUTPUT_INTERMEDIATE_DIR=/opt/ml/output/intermediate\n",
      "9e65ccx0dv-algo-1-5gw4d  | SM_CHANNEL_TRAINING=/opt/ml/input/data/training\n",
      "9e65ccx0dv-algo-1-5gw4d  | SM_HP_INFERENCE_SCRIPT=inference.py\n",
      "9e65ccx0dv-algo-1-5gw4d  | SM_HP_MODEL_ARCHIVE=s3://sagemaker-ap-southeast-1-879654127886/sagemaker-pipelines-local-mode-example/model/AbaloneTrain-1712561402-30d6/output/model.tar.gz\n",
      "9e65ccx0dv-algo-1-5gw4d  | SM_HP_DEPENDENCIES=\n",
      "9e65ccx0dv-algo-1-5gw4d  | SM_HP_SOURCE_DIR=code\n",
      "9e65ccx0dv-algo-1-5gw4d  | PYTHONPATH=/opt/ml/code:/miniconda3/bin:/miniconda3/lib/python37.zip:/miniconda3/lib/python3.7:/miniconda3/lib/python3.7/lib-dynload:/miniconda3/lib/python3.7/site-packages\n",
      "9e65ccx0dv-algo-1-5gw4d  | \n",
      "9e65ccx0dv-algo-1-5gw4d  | Invoking script with the following command:\n",
      "9e65ccx0dv-algo-1-5gw4d  | \n",
      "9e65ccx0dv-algo-1-5gw4d  | /bin/sh -c ./_repack_script_launcher.sh --dependencies '' --inference_script inference.py --model_archive s3://sagemaker-ap-southeast-1-879654127886/sagemaker-pipelines-local-mode-example/model/AbaloneTrain-1712561402-30d6/output/model.tar.gz --source_dir code\n",
      "9e65ccx0dv-algo-1-5gw4d  | \n",
      "9e65ccx0dv-algo-1-5gw4d  | \n",
      "9e65ccx0dv-algo-1-5gw4d  | 2024-04-08 07:57:03,604 sagemaker-containers INFO     Reporting training SUCCESS\n"
     ]
    },
    {
     "name": "stderr",
     "output_type": "stream",
     "text": [
      "INFO:root:copying /private/var/folders/11/8pq7lf2166bbtfcvp2m1z20c0000gn/T/tmpm20_rqcu/algo-1-5gw4d/output/success -> /private/var/folders/11/8pq7lf2166bbtfcvp2m1z20c0000gn/T/tmpm20_rqcu/artifacts/output\n",
      "INFO:root:creating /private/var/folders/11/8pq7lf2166bbtfcvp2m1z20c0000gn/T/tmpm20_rqcu/artifacts/output/data\n",
      "INFO:root:creating /private/var/folders/11/8pq7lf2166bbtfcvp2m1z20c0000gn/T/tmpm20_rqcu/artifacts/model/code\n",
      "INFO:root:copying /private/var/folders/11/8pq7lf2166bbtfcvp2m1z20c0000gn/T/tmpm20_rqcu/model/code/_repack_script_launcher.sh -> /private/var/folders/11/8pq7lf2166bbtfcvp2m1z20c0000gn/T/tmpm20_rqcu/artifacts/model/code\n",
      "INFO:root:copying /private/var/folders/11/8pq7lf2166bbtfcvp2m1z20c0000gn/T/tmpm20_rqcu/model/code/evaluation.py -> /private/var/folders/11/8pq7lf2166bbtfcvp2m1z20c0000gn/T/tmpm20_rqcu/artifacts/model/code\n",
      "INFO:root:copying /private/var/folders/11/8pq7lf2166bbtfcvp2m1z20c0000gn/T/tmpm20_rqcu/model/code/preprocessing.py -> /private/var/folders/11/8pq7lf2166bbtfcvp2m1z20c0000gn/T/tmpm20_rqcu/artifacts/model/code\n",
      "INFO:root:copying /private/var/folders/11/8pq7lf2166bbtfcvp2m1z20c0000gn/T/tmpm20_rqcu/model/code/inference.py -> /private/var/folders/11/8pq7lf2166bbtfcvp2m1z20c0000gn/T/tmpm20_rqcu/artifacts/model/code\n",
      "INFO:root:copying /private/var/folders/11/8pq7lf2166bbtfcvp2m1z20c0000gn/T/tmpm20_rqcu/model/code/_repack_model.py -> /private/var/folders/11/8pq7lf2166bbtfcvp2m1z20c0000gn/T/tmpm20_rqcu/artifacts/model/code\n",
      "INFO:root:copying /private/var/folders/11/8pq7lf2166bbtfcvp2m1z20c0000gn/T/tmpm20_rqcu/model/code/abalone.py -> /private/var/folders/11/8pq7lf2166bbtfcvp2m1z20c0000gn/T/tmpm20_rqcu/artifacts/model/code\n",
      "INFO:root:copying /private/var/folders/11/8pq7lf2166bbtfcvp2m1z20c0000gn/T/tmpm20_rqcu/model/xgboost-model -> /private/var/folders/11/8pq7lf2166bbtfcvp2m1z20c0000gn/T/tmpm20_rqcu/artifacts/model\n"
     ]
    },
    {
     "name": "stdout",
     "output_type": "stream",
     "text": [
      "9e65ccx0dv-algo-1-5gw4d exited with code 0\n",
      "Aborting on container exit...\n",
      " Container 9e65ccx0dv-algo-1-5gw4d  Stopping\n",
      " Container 9e65ccx0dv-algo-1-5gw4d  Stopped\n"
     ]
    },
    {
     "name": "stderr",
     "output_type": "stream",
     "text": [
      "INFO:sagemaker.local.image:===== Job Complete =====\n",
      "INFO:sagemaker.local.entities:Pipeline step 'AbaloneCreateModel-RepackModel-0' SUCCEEDED.\n",
      "INFO:sagemaker.local.entities:Starting pipeline step: 'AbaloneCreateModel-CreateModel'\n",
      "INFO:sagemaker.local.entities:Pipeline step 'AbaloneCreateModel-CreateModel' SUCCEEDED.\n",
      "INFO:sagemaker.local.entities:Starting pipeline step: 'AbaloneTransform'\n",
      "INFO:sagemaker.local.image:'Docker Compose' found using Docker CLI.\n",
      "INFO:sagemaker.local.image:serving\n",
      "INFO:sagemaker.local.image:creating hosting dir in /private/var/folders/11/8pq7lf2166bbtfcvp2m1z20c0000gn/T/tmp7odp2l7m\n",
      "INFO:sagemaker.local.image:Using the long-lived AWS credentials found in session\n",
      "INFO:sagemaker.local.image:docker compose file: \n",
      "networks:\n",
      "  sagemaker-local:\n",
      "    name: sagemaker-local\n",
      "services:\n",
      "  algo-1-9x0ds:\n",
      "    command: serve\n",
      "    container_name: 9lv208xgcl-algo-1-9x0ds\n",
      "    environment:\n",
      "    - '[Masked]'\n",
      "    - '[Masked]'\n",
      "    - '[Masked]'\n",
      "    - '[Masked]'\n",
      "    - '[Masked]'\n",
      "    - '[Masked]'\n",
      "    - '[Masked]'\n",
      "    - '[Masked]'\n",
      "    image: 121021644041.dkr.ecr.ap-southeast-1.amazonaws.com/sagemaker-xgboost:1.5-1\n",
      "    networks:\n",
      "      sagemaker-local:\n",
      "        aliases:\n",
      "        - algo-1-9x0ds\n",
      "    ports:\n",
      "    - 8080:8080\n",
      "    stdin_open: true\n",
      "    tty: true\n",
      "    volumes:\n",
      "    - /private/var/folders/11/8pq7lf2166bbtfcvp2m1z20c0000gn/T/tmpiizucp4f:/opt/ml/model\n",
      "version: '2.3'\n",
      "\n",
      "INFO:sagemaker.local.image:docker command: docker compose -f /private/var/folders/11/8pq7lf2166bbtfcvp2m1z20c0000gn/T/tmp7odp2l7m/docker-compose.yaml up --build --abort-on-container-exit\n",
      "INFO:sagemaker.local.entities:Checking if serving container is up, attempt: 5\n",
      "WARNING:urllib3.connectionpool:Retrying (Retry(total=2, connect=None, read=None, redirect=None, status=None)) after connection broken by 'NewConnectionError('<urllib3.connection.HTTPConnection object at 0x114a43760>: Failed to establish a new connection: [Errno 61] Connection refused')': /ping\n",
      "WARNING:urllib3.connectionpool:Retrying (Retry(total=1, connect=None, read=None, redirect=None, status=None)) after connection broken by 'NewConnectionError('<urllib3.connection.HTTPConnection object at 0x114a43940>: Failed to establish a new connection: [Errno 61] Connection refused')': /ping\n",
      "WARNING:urllib3.connectionpool:Retrying (Retry(total=0, connect=None, read=None, redirect=None, status=None)) after connection broken by 'NewConnectionError('<urllib3.connection.HTTPConnection object at 0x114a430d0>: Failed to establish a new connection: [Errno 61] Connection refused')': /ping\n",
      "INFO:sagemaker.local.entities:Container still not up, got: -1\n"
     ]
    },
    {
     "name": "stdout",
     "output_type": "stream",
     "text": [
      "Attaching to 9lv208xgcl-algo-1-9x0ds\n"
     ]
    },
    {
     "name": "stderr",
     "output_type": "stream",
     "text": [
      "INFO:sagemaker.local.entities:Checking if serving container is up, attempt: 10\n",
      "WARNING:urllib3.connectionpool:Retrying (Retry(total=2, connect=None, read=None, redirect=None, status=None)) after connection broken by 'ProtocolError('Connection aborted.', ConnectionResetError(54, 'Connection reset by peer'))': /ping\n",
      "WARNING:urllib3.connectionpool:Retrying (Retry(total=1, connect=None, read=None, redirect=None, status=None)) after connection broken by 'ProtocolError('Connection aborted.', ConnectionResetError(54, 'Connection reset by peer'))': /ping\n",
      "WARNING:urllib3.connectionpool:Retrying (Retry(total=0, connect=None, read=None, redirect=None, status=None)) after connection broken by 'ProtocolError('Connection aborted.', ConnectionResetError(54, 'Connection reset by peer'))': /ping\n",
      "INFO:sagemaker.local.entities:Container still not up, got: -1\n"
     ]
    },
    {
     "name": "stdout",
     "output_type": "stream",
     "text": [
      "9lv208xgcl-algo-1-9x0ds  | <jemalloc>: MADV_DONTNEED does not work (memset will be used instead)\n",
      "9lv208xgcl-algo-1-9x0ds  | <jemalloc>: (This is the expected behaviour if you are running under QEMU)\n"
     ]
    },
    {
     "name": "stderr",
     "output_type": "stream",
     "text": [
      "INFO:sagemaker.local.entities:Checking if serving container is up, attempt: 15\n",
      "WARNING:urllib3.connectionpool:Retrying (Retry(total=2, connect=None, read=None, redirect=None, status=None)) after connection broken by 'ProtocolError('Connection aborted.', ConnectionResetError(54, 'Connection reset by peer'))': /ping\n",
      "WARNING:urllib3.connectionpool:Retrying (Retry(total=1, connect=None, read=None, redirect=None, status=None)) after connection broken by 'ProtocolError('Connection aborted.', ConnectionResetError(54, 'Connection reset by peer'))': /ping\n",
      "WARNING:urllib3.connectionpool:Retrying (Retry(total=0, connect=None, read=None, redirect=None, status=None)) after connection broken by 'ProtocolError('Connection aborted.', ConnectionResetError(54, 'Connection reset by peer'))': /ping\n",
      "INFO:sagemaker.local.entities:Container still not up, got: -1\n"
     ]
    },
    {
     "name": "stdout",
     "output_type": "stream",
     "text": [
      "9lv208xgcl-algo-1-9x0ds  | /miniconda3/lib/python3.8/site-packages/xgboost/compat.py:36: FutureWarning: pandas.Int64Index is deprecated and will be removed from pandas in a future version. Use pandas.Index with the appropriate dtype instead.\n",
      "9lv208xgcl-algo-1-9x0ds  |   from pandas import MultiIndex, Int64Index\n",
      "9lv208xgcl-algo-1-9x0ds  | [2024-04-08:07:57:21:INFO] No GPUs detected (normal if no gpus installed)\n",
      "9lv208xgcl-algo-1-9x0ds  | [2024-04-08:07:57:21:INFO] No GPUs detected (normal if no gpus installed)\n",
      "9lv208xgcl-algo-1-9x0ds  | [2024-04-08:07:57:21:INFO] nginx config: \n",
      "9lv208xgcl-algo-1-9x0ds  | worker_processes auto;\n",
      "9lv208xgcl-algo-1-9x0ds  | daemon off;\n",
      "9lv208xgcl-algo-1-9x0ds  | pid /tmp/nginx.pid;\n",
      "9lv208xgcl-algo-1-9x0ds  | error_log  /dev/stderr;\n",
      "9lv208xgcl-algo-1-9x0ds  | \n",
      "9lv208xgcl-algo-1-9x0ds  | worker_rlimit_nofile 4096;\n",
      "9lv208xgcl-algo-1-9x0ds  | \n",
      "9lv208xgcl-algo-1-9x0ds  | events {\n",
      "9lv208xgcl-algo-1-9x0ds  |   worker_connections 2048;\n",
      "9lv208xgcl-algo-1-9x0ds  | }\n",
      "9lv208xgcl-algo-1-9x0ds  | \n",
      "9lv208xgcl-algo-1-9x0ds  | http {\n",
      "9lv208xgcl-algo-1-9x0ds  |   include /etc/nginx/mime.types;\n",
      "9lv208xgcl-algo-1-9x0ds  |   default_type application/octet-stream;\n",
      "9lv208xgcl-algo-1-9x0ds  |   access_log /dev/stdout combined;\n",
      "9lv208xgcl-algo-1-9x0ds  | \n",
      "9lv208xgcl-algo-1-9x0ds  |   upstream gunicorn {\n",
      "9lv208xgcl-algo-1-9x0ds  |     server unix:/tmp/gunicorn.sock;\n",
      "9lv208xgcl-algo-1-9x0ds  |   }\n",
      "9lv208xgcl-algo-1-9x0ds  | \n",
      "9lv208xgcl-algo-1-9x0ds  |   server {\n",
      "9lv208xgcl-algo-1-9x0ds  |     listen 8080 deferred;\n",
      "9lv208xgcl-algo-1-9x0ds  |     client_max_body_size 0;\n",
      "9lv208xgcl-algo-1-9x0ds  | \n",
      "9lv208xgcl-algo-1-9x0ds  |     keepalive_timeout 3;\n",
      "9lv208xgcl-algo-1-9x0ds  | \n",
      "9lv208xgcl-algo-1-9x0ds  |     location ~ ^/(ping|invocations|execution-parameters) {\n",
      "9lv208xgcl-algo-1-9x0ds  |       proxy_set_header X-Forwarded-For $proxy_add_x_forwarded_for;\n",
      "9lv208xgcl-algo-1-9x0ds  |       proxy_set_header Host $http_host;\n",
      "9lv208xgcl-algo-1-9x0ds  |       proxy_redirect off;\n",
      "9lv208xgcl-algo-1-9x0ds  |       proxy_read_timeout 60s;\n",
      "9lv208xgcl-algo-1-9x0ds  |       proxy_pass http://gunicorn;\n",
      "9lv208xgcl-algo-1-9x0ds  |     }\n",
      "9lv208xgcl-algo-1-9x0ds  | \n",
      "9lv208xgcl-algo-1-9x0ds  |     location / {\n",
      "9lv208xgcl-algo-1-9x0ds  |       return 404 \"{}\";\n",
      "9lv208xgcl-algo-1-9x0ds  |     }\n",
      "9lv208xgcl-algo-1-9x0ds  | \n",
      "9lv208xgcl-algo-1-9x0ds  |   }\n",
      "9lv208xgcl-algo-1-9x0ds  | }\n",
      "9lv208xgcl-algo-1-9x0ds  | \n",
      "9lv208xgcl-algo-1-9x0ds  | \n",
      "9lv208xgcl-algo-1-9x0ds  | [2024-04-08:07:57:21:INFO] Module inference does not provide a setup.py. \n",
      "9lv208xgcl-algo-1-9x0ds  | Generating setup.py\n",
      "9lv208xgcl-algo-1-9x0ds  | [2024-04-08:07:57:21:INFO] Generating setup.cfg\n",
      "9lv208xgcl-algo-1-9x0ds  | [2024-04-08:07:57:21:INFO] Generating MANIFEST.in\n",
      "9lv208xgcl-algo-1-9x0ds  | [2024-04-08:07:57:21:INFO] Installing module with the following command:\n",
      "9lv208xgcl-algo-1-9x0ds  | /miniconda3/bin/python3 -m pip install . \n"
     ]
    },
    {
     "name": "stderr",
     "output_type": "stream",
     "text": [
      "INFO:sagemaker.local.entities:Checking if serving container is up, attempt: 20\n",
      "WARNING:urllib3.connectionpool:Retrying (Retry(total=2, connect=None, read=None, redirect=None, status=None)) after connection broken by 'ProtocolError('Connection aborted.', ConnectionResetError(54, 'Connection reset by peer'))': /ping\n",
      "WARNING:urllib3.connectionpool:Retrying (Retry(total=1, connect=None, read=None, redirect=None, status=None)) after connection broken by 'ProtocolError('Connection aborted.', ConnectionResetError(54, 'Connection reset by peer'))': /ping\n",
      "WARNING:urllib3.connectionpool:Retrying (Retry(total=0, connect=None, read=None, redirect=None, status=None)) after connection broken by 'ProtocolError('Connection aborted.', ConnectionResetError(54, 'Connection reset by peer'))': /ping\n",
      "INFO:sagemaker.local.entities:Container still not up, got: -1\n",
      "INFO:sagemaker.local.entities:Checking if serving container is up, attempt: 25\n",
      "INFO:sagemaker.local.entities:Container still not up, got: 502\n"
     ]
    },
    {
     "name": "stdout",
     "output_type": "stream",
     "text": [
      "9lv208xgcl-algo-1-9x0ds  | Processing /opt/ml/code\n",
      "9lv208xgcl-algo-1-9x0ds  |   Preparing metadata (setup.py) ... \u001b[?25l2024/04/08 07:57:28 [crit] 32#32: *1 connect() to unix:/tmp/gunicorn.sock failed (2: No such file or directory) while connecting to upstream, client: 192.168.65.1, server: , request: \"GET /ping HTTP/1.1\", upstream: \"http://unix:/tmp/gunicorn.sock:/ping\", host: \"localhost:8080\"\n",
      "9lv208xgcl-algo-1-9x0ds  | 192.168.65.1 - - [08/Apr/2024:07:57:28 +0000] \"GET /ping HTTP/1.1\" 502 182 \"-\" \"python-urllib3/1.26.18\"\n",
      "9lv208xgcl-algo-1-9x0ds  | done\n",
      "9lv208xgcl-algo-1-9x0ds  | \u001b[?25hBuilding wheels for collected packages: inference\n",
      "9lv208xgcl-algo-1-9x0ds  |   Building wheel for inference (setup.py) ... \u001b[?25ldone\n",
      "9lv208xgcl-algo-1-9x0ds  | \u001b[?25h  Created wheel for inference: filename=inference-1.0.0-py2.py3-none-any.whl size=17002 sha256=7b3f631ffe47de3468b4bb9338b8eacb7fa093fc1d9b6aca1dc74182cb1219c3\n",
      "9lv208xgcl-algo-1-9x0ds  |   Stored in directory: /home/model-server/tmp/pip-ephem-wheel-cache-ekitewtd/wheels/f3/75/57/158162e9eab7af12b5c338c279b3a81f103b89d74eeb911c00\n",
      "9lv208xgcl-algo-1-9x0ds  | Successfully built inference\n",
      "9lv208xgcl-algo-1-9x0ds  | Installing collected packages: inference\n"
     ]
    },
    {
     "name": "stderr",
     "output_type": "stream",
     "text": [
      "INFO:sagemaker.local.entities:Checking if serving container is up, attempt: 30\n",
      "INFO:sagemaker.local.entities:Container still not up, got: 502\n"
     ]
    },
    {
     "name": "stdout",
     "output_type": "stream",
     "text": [
      "9lv208xgcl-algo-1-9x0ds  | Successfully installed inference-1.0.0\n",
      "9lv208xgcl-algo-1-9x0ds  | \u001b[33mWARNING: Running pip as the 'root' user can result in broken permissions and conflicting behaviour with the system package manager. It is recommended to use a virtual environment instead: https://pip.pypa.io/warnings/venv\u001b[0m\u001b[33m\n",
      "9lv208xgcl-algo-1-9x0ds  | \u001b[0m2024/04/08 07:57:33 [crit] 32#32: *3 connect() to unix:/tmp/gunicorn.sock failed (2: No such file or directory) while connecting to upstream, client: 192.168.65.1, server: , request: \"GET /ping HTTP/1.1\", upstream: \"http://unix:/tmp/gunicorn.sock:/ping\", host: \"localhost:8080\"\n",
      "9lv208xgcl-algo-1-9x0ds  | 192.168.65.1 - - [08/Apr/2024:07:57:33 +0000] \"GET /ping HTTP/1.1\" 502 182 \"-\" \"python-urllib3/1.26.18\"\n",
      "9lv208xgcl-algo-1-9x0ds  | [2024-04-08 07:57:36 +0000] [62] [INFO] Starting gunicorn 19.10.0\n",
      "9lv208xgcl-algo-1-9x0ds  | [2024-04-08 07:57:36 +0000] [62] [INFO] Listening at: unix:/tmp/gunicorn.sock (62)\n",
      "9lv208xgcl-algo-1-9x0ds  | [2024-04-08 07:57:36 +0000] [62] [INFO] Using worker: gevent\n",
      "9lv208xgcl-algo-1-9x0ds  | /miniconda3/lib/python3.8/os.py:1023: RuntimeWarning: line buffering (buffering=1) isn't supported in binary mode, the default buffer size will be used\n",
      "9lv208xgcl-algo-1-9x0ds  |   return io.open(fd, *args, **kwargs)\n",
      "9lv208xgcl-algo-1-9x0ds  | [2024-04-08 07:57:36 +0000] [68] [INFO] Booting worker with pid: 68\n",
      "9lv208xgcl-algo-1-9x0ds  | [2024-04-08 07:57:36 +0000] [70] [INFO] Booting worker with pid: 70\n",
      "9lv208xgcl-algo-1-9x0ds  | [2024-04-08 07:57:36 +0000] [72] [INFO] Booting worker with pid: 72\n",
      "9lv208xgcl-algo-1-9x0ds  | [2024-04-08 07:57:37 +0000] [74] [INFO] Booting worker with pid: 74\n"
     ]
    },
    {
     "name": "stderr",
     "output_type": "stream",
     "text": [
      "INFO:sagemaker.local.entities:Checking if serving container is up, attempt: 35\n"
     ]
    },
    {
     "name": "stdout",
     "output_type": "stream",
     "text": [
      "9lv208xgcl-algo-1-9x0ds  | <jemalloc>: MADV_DONTNEED does not work (memset will be used instead)\n",
      "9lv208xgcl-algo-1-9x0ds  | <jemalloc>: (This is the expected behaviour if you are running under QEMU)\n",
      "9lv208xgcl-algo-1-9x0ds  | <jemalloc>: MADV_DONTNEED does not work (memset will be used instead)\n",
      "9lv208xgcl-algo-1-9x0ds  | <jemalloc>: (This is the expected behaviour if you are running under QEMU)\n",
      "9lv208xgcl-algo-1-9x0ds  | <jemalloc>: MADV_DONTNEED does not work (memset will be used instead)\n",
      "9lv208xgcl-algo-1-9x0ds  | <jemalloc>: (This is the expected behaviour if you are running under QEMU)\n",
      "9lv208xgcl-algo-1-9x0ds  | <jemalloc>: MADV_DONTNEED does not work (memset will be used instead)\n",
      "9lv208xgcl-algo-1-9x0ds  | <jemalloc>: (This is the expected behaviour if you are running under QEMU)\n",
      "9lv208xgcl-algo-1-9x0ds  | /miniconda3/lib/python3.8/site-packages/xgboost/compat.py:36: FutureWarning: pandas.Int64Index is deprecated and will be removed from pandas in a future version. Use pandas.Index with the appropriate dtype instead.\n",
      "9lv208xgcl-algo-1-9x0ds  |   from pandas import MultiIndex, Int64Index\n",
      "9lv208xgcl-algo-1-9x0ds  | /miniconda3/lib/python3.8/site-packages/xgboost/compat.py:36: FutureWarning: pandas.Int64Index is deprecated and will be removed from pandas in a future version. Use pandas.Index with the appropriate dtype instead.\n",
      "9lv208xgcl-algo-1-9x0ds  |   from pandas import MultiIndex, Int64Index\n",
      "9lv208xgcl-algo-1-9x0ds  | /miniconda3/lib/python3.8/site-packages/xgboost/compat.py:36: FutureWarning: pandas.Int64Index is deprecated and will be removed from pandas in a future version. Use pandas.Index with the appropriate dtype instead.\n",
      "9lv208xgcl-algo-1-9x0ds  |   from pandas import MultiIndex, Int64Index\n",
      "9lv208xgcl-algo-1-9x0ds  | /miniconda3/lib/python3.8/site-packages/xgboost/compat.py:36: FutureWarning: pandas.Int64Index is deprecated and will be removed from pandas in a future version. Use pandas.Index with the appropriate dtype instead.\n",
      "9lv208xgcl-algo-1-9x0ds  |   from pandas import MultiIndex, Int64Index\n",
      "9lv208xgcl-algo-1-9x0ds  | [2024-04-08:07:57:55:INFO] No GPUs detected (normal if no gpus installed)\n",
      "9lv208xgcl-algo-1-9x0ds  | [2024-04-08:07:57:55:INFO] No GPUs detected (normal if no gpus installed)\n",
      "9lv208xgcl-algo-1-9x0ds  | [2024-04-08:07:57:55:INFO] No GPUs detected (normal if no gpus installed)\n",
      "9lv208xgcl-algo-1-9x0ds  | [2024-04-08:07:57:55:INFO] No GPUs detected (normal if no gpus installed)\n",
      "9lv208xgcl-algo-1-9x0ds  | [2024-04-08:07:57:55:INFO] No GPUs detected (normal if no gpus installed)\n",
      "9lv208xgcl-algo-1-9x0ds  | 192.168.65.1 - - [08/Apr/2024:07:57:55 +0000] \"GET /ping HTTP/1.1\" 200 0 \"-\" \"python-urllib3/1.26.18\"\n",
      "9lv208xgcl-algo-1-9x0ds  | [2024-04-08:07:57:55:INFO] No GPUs detected (normal if no gpus installed)\n",
      "9lv208xgcl-algo-1-9x0ds  | 192.168.65.1 - - [08/Apr/2024:07:57:55 +0000] \"GET /execution-parameters HTTP/1.1\" 404 232 \"-\" \"python-urllib3/1.26.18\"\n",
      "9lv208xgcl-algo-1-9x0ds  | /miniconda3/lib/python3.8/site-packages/xgboost/data.py:262: FutureWarning: pandas.Int64Index is deprecated and will be removed from pandas in a future version. Use pandas.Index with the appropriate dtype instead.\n",
      "9lv208xgcl-algo-1-9x0ds  |   elif isinstance(data.columns, (pd.Int64Index, pd.RangeIndex)):\n",
      "9lv208xgcl-algo-1-9x0ds  | [2024-04-08:07:57:57:INFO] Successfully completed transform job!\n",
      "9lv208xgcl-algo-1-9x0ds  | 192.168.65.1 - - [08/Apr/2024:07:57:57 +0000] \"POST /invocations HTTP/1.1\" 200 136 \"-\" \"python-urllib3/1.26.18\"\n"
     ]
    },
    {
     "name": "stderr",
     "output_type": "stream",
     "text": [
      "INFO:sagemaker.local.entities:Pipeline step 'AbaloneTransform' SUCCEEDED.\n",
      "INFO:sagemaker.local.entities:Pipeline execution 13a73e55-1a1a-4186-955e-10f9252aa090 SUCCEEDED\n"
     ]
    }
   ],
   "source": [
    "execution = pipeline.start()"
   ]
  },
  {
   "cell_type": "markdown",
   "metadata": {},
   "source": [
    "## Output pipeline to JSON"
   ]
  },
  {
   "cell_type": "code",
   "execution_count": null,
   "metadata": {},
   "outputs": [
    {
     "name": "stderr",
     "output_type": "stream",
     "text": [
      "WARNING:sagemaker.workflow.utilities:Popping out 'ProcessingJobName' from the pipeline definition by default since it will be overridden at pipeline execution time. Please utilize the PipelineDefinitionConfig to persist this field in the pipeline definition if desired.\n",
      "WARNING:sagemaker.workflow.utilities:Popping out 'TrainingJobName' from the pipeline definition by default since it will be overridden at pipeline execution time. Please utilize the PipelineDefinitionConfig to persist this field in the pipeline definition if desired.\n",
      "WARNING:sagemaker.workflow.utilities:Popping out 'ProcessingJobName' from the pipeline definition by default since it will be overridden at pipeline execution time. Please utilize the PipelineDefinitionConfig to persist this field in the pipeline definition if desired.\n",
      "WARNING:sagemaker.workflow.utilities:Popping out 'TrainingJobName' from the pipeline definition by default since it will be overridden at pipeline execution time. Please utilize the PipelineDefinitionConfig to persist this field in the pipeline definition if desired.\n",
      "WARNING:sagemaker.workflow.utilities:Popping out 'ModelName' from the pipeline definition by default since it will be overridden at pipeline execution time. Please utilize the PipelineDefinitionConfig to persist this field in the pipeline definition if desired.\n",
      "WARNING:sagemaker.workflow.utilities:Popping out 'TransformJobName' from the pipeline definition by default since it will be overridden at pipeline execution time. Please utilize the PipelineDefinitionConfig to persist this field in the pipeline definition if desired.\n"
     ]
    },
    {
     "data": {
      "text/plain": [
       "{'Version': '2020-12-01',\n",
       " 'Metadata': {},\n",
       " 'Parameters': [{'Name': 'InputData',\n",
       "   'Type': 'String',\n",
       "   'DefaultValue': 's3://sagemaker-ap-southeast-1-879654127886/sagemaker-pipelines-local-mode-example/abalone-data-set/abalone-dataset.csv'},\n",
       "  {'Name': 'MseThreshold', 'Type': 'Float', 'DefaultValue': 7.0}],\n",
       " 'PipelineExperimentConfig': {'ExperimentName': {'Get': 'Execution.PipelineName'},\n",
       "  'TrialName': {'Get': 'Execution.PipelineExecutionId'}},\n",
       " 'Steps': [{'Name': 'AbaloneProcess',\n",
       "   'Type': 'Processing',\n",
       "   'Arguments': {'ProcessingResources': {'ClusterConfig': {'InstanceType': 'ml.m5.xlarge',\n",
       "      'InstanceCount': 1,\n",
       "      'VolumeSizeInGB': 30}},\n",
       "    'AppSpecification': {'ImageUri': '121021644041.dkr.ecr.ap-southeast-1.amazonaws.com/sagemaker-scikit-learn:1.0-1-cpu-py3',\n",
       "     'ContainerEntrypoint': ['python3',\n",
       "      '/opt/ml/processing/input/code/preprocessing.py']},\n",
       "    'RoleArn': 'arn:aws:iam::879654127886:role/AirflowSageMakerExecutionRole',\n",
       "    'ProcessingInputs': [{'InputName': 'input-1',\n",
       "      'AppManaged': False,\n",
       "      'S3Input': {'S3Uri': {'Get': 'Parameters.InputData'},\n",
       "       'LocalPath': '/opt/ml/processing/input',\n",
       "       'S3DataType': 'S3Prefix',\n",
       "       'S3InputMode': 'File',\n",
       "       'S3DataDistributionType': 'FullyReplicated',\n",
       "       'S3CompressionType': 'None'}},\n",
       "     {'InputName': 'code',\n",
       "      'AppManaged': False,\n",
       "      'S3Input': {'S3Uri': 's3://sagemaker-ap-southeast-1-879654127886/LocalModelPipeline/code/b801a7513baab9e8d8d05d01e242caf5/preprocessing.py',\n",
       "       'LocalPath': '/opt/ml/processing/input/code',\n",
       "       'S3DataType': 'S3Prefix',\n",
       "       'S3InputMode': 'File',\n",
       "       'S3DataDistributionType': 'FullyReplicated',\n",
       "       'S3CompressionType': 'None'}}],\n",
       "    'ProcessingOutputConfig': {'Outputs': [{'OutputName': 'train',\n",
       "       'AppManaged': False,\n",
       "       'S3Output': {'S3Uri': {'Std:Join': {'On': '/',\n",
       "          'Values': ['s3:/',\n",
       "           'sagemaker-ap-southeast-1-879654127886',\n",
       "           'LocalModelPipeline',\n",
       "           {'Get': 'Execution.PipelineExecutionId'},\n",
       "           'AbaloneProcess',\n",
       "           'output',\n",
       "           'train']}},\n",
       "        'LocalPath': '/opt/ml/processing/train',\n",
       "        'S3UploadMode': 'EndOfJob'}},\n",
       "      {'OutputName': 'validation',\n",
       "       'AppManaged': False,\n",
       "       'S3Output': {'S3Uri': {'Std:Join': {'On': '/',\n",
       "          'Values': ['s3:/',\n",
       "           'sagemaker-ap-southeast-1-879654127886',\n",
       "           'LocalModelPipeline',\n",
       "           {'Get': 'Execution.PipelineExecutionId'},\n",
       "           'AbaloneProcess',\n",
       "           'output',\n",
       "           'validation']}},\n",
       "        'LocalPath': '/opt/ml/processing/validation',\n",
       "        'S3UploadMode': 'EndOfJob'}},\n",
       "      {'OutputName': 'test',\n",
       "       'AppManaged': False,\n",
       "       'S3Output': {'S3Uri': {'Std:Join': {'On': '/',\n",
       "          'Values': ['s3:/',\n",
       "           'sagemaker-ap-southeast-1-879654127886',\n",
       "           'LocalModelPipeline',\n",
       "           {'Get': 'Execution.PipelineExecutionId'},\n",
       "           'AbaloneProcess',\n",
       "           'output',\n",
       "           'test']}},\n",
       "        'LocalPath': '/opt/ml/processing/test',\n",
       "        'S3UploadMode': 'EndOfJob'}}]}}},\n",
       "  {'Name': 'AbaloneTrain',\n",
       "   'Type': 'Training',\n",
       "   'Arguments': {'AlgorithmSpecification': {'TrainingInputMode': 'File',\n",
       "     'TrainingImage': '121021644041.dkr.ecr.ap-southeast-1.amazonaws.com/sagemaker-xgboost:1.5-1'},\n",
       "    'OutputDataConfig': {'S3OutputPath': 's3://sagemaker-ap-southeast-1-879654127886/sagemaker-pipelines-local-mode-example/model'},\n",
       "    'StoppingCondition': {'MaxRuntimeInSeconds': 86400},\n",
       "    'ResourceConfig': {'VolumeSizeInGB': 30,\n",
       "     'InstanceCount': 1,\n",
       "     'InstanceType': 'ml.m5.xlarge'},\n",
       "    'RoleArn': 'arn:aws:iam::879654127886:role/AirflowSageMakerExecutionRole',\n",
       "    'InputDataConfig': [{'DataSource': {'S3DataSource': {'S3DataType': 'S3Prefix',\n",
       "        'S3Uri': {'Get': \"Steps.AbaloneProcess.ProcessingOutputConfig.Outputs['train'].S3Output.S3Uri\"},\n",
       "        'S3DataDistributionType': 'FullyReplicated'}},\n",
       "      'ContentType': 'text/csv',\n",
       "      'ChannelName': 'train'},\n",
       "     {'DataSource': {'S3DataSource': {'S3DataType': 'S3Prefix',\n",
       "        'S3Uri': {'Get': \"Steps.AbaloneProcess.ProcessingOutputConfig.Outputs['validation'].S3Output.S3Uri\"},\n",
       "        'S3DataDistributionType': 'FullyReplicated'}},\n",
       "      'ContentType': 'text/csv',\n",
       "      'ChannelName': 'validation'}],\n",
       "    'HyperParameters': {'objective': 'reg:squarederror',\n",
       "     'learning_rate': '0.01',\n",
       "     'num_round': '50',\n",
       "     'max_depth': '5',\n",
       "     'eta': '0.2',\n",
       "     'gamma': '4',\n",
       "     'min_child_weight': '6',\n",
       "     'subsample': '0.7',\n",
       "     'sagemaker_submit_directory': '\"s3://sagemaker-ap-southeast-1-879654127886/LocalModelPipeline/code/eb67df0d53fdce5b483bbde46a017e78/sourcedir.tar.gz\"',\n",
       "     'sagemaker_program': '\"abalone.py\"',\n",
       "     'sagemaker_container_log_level': '20',\n",
       "     'sagemaker_region': '\"ap-southeast-1\"'},\n",
       "    'DebugHookConfig': {'S3OutputPath': 's3://sagemaker-ap-southeast-1-879654127886/sagemaker-pipelines-local-mode-example/model',\n",
       "     'CollectionConfigurations': []},\n",
       "    'ProfilerConfig': {'S3OutputPath': 's3://sagemaker-ap-southeast-1-879654127886/sagemaker-pipelines-local-mode-example/model',\n",
       "     'DisableProfiler': False}}},\n",
       "  {'Name': 'AbaloneEval',\n",
       "   'Type': 'Processing',\n",
       "   'Arguments': {'ProcessingResources': {'ClusterConfig': {'InstanceType': 'ml.m5.xlarge',\n",
       "      'InstanceCount': 1,\n",
       "      'VolumeSizeInGB': 30}},\n",
       "    'AppSpecification': {'ImageUri': '121021644041.dkr.ecr.ap-southeast-1.amazonaws.com/sagemaker-xgboost:1.5-1',\n",
       "     'ContainerEntrypoint': ['python3',\n",
       "      '/opt/ml/processing/input/code/evaluation.py']},\n",
       "    'RoleArn': 'arn:aws:iam::879654127886:role/AirflowSageMakerExecutionRole',\n",
       "    'ProcessingInputs': [{'InputName': 'input-1',\n",
       "      'AppManaged': False,\n",
       "      'S3Input': {'S3Uri': {'Get': 'Steps.AbaloneTrain.ModelArtifacts.S3ModelArtifacts'},\n",
       "       'LocalPath': '/opt/ml/processing/model',\n",
       "       'S3DataType': 'S3Prefix',\n",
       "       'S3InputMode': 'File',\n",
       "       'S3DataDistributionType': 'FullyReplicated',\n",
       "       'S3CompressionType': 'None'}},\n",
       "     {'InputName': 'input-2',\n",
       "      'AppManaged': False,\n",
       "      'S3Input': {'S3Uri': {'Get': \"Steps.AbaloneProcess.ProcessingOutputConfig.Outputs['test'].S3Output.S3Uri\"},\n",
       "       'LocalPath': '/opt/ml/processing/test',\n",
       "       'S3DataType': 'S3Prefix',\n",
       "       'S3InputMode': 'File',\n",
       "       'S3DataDistributionType': 'FullyReplicated',\n",
       "       'S3CompressionType': 'None'}},\n",
       "     {'InputName': 'code',\n",
       "      'AppManaged': False,\n",
       "      'S3Input': {'S3Uri': 's3://sagemaker-ap-southeast-1-879654127886/LocalModelPipeline/code/c55e42b7b5abef9f44f29c66d6c04af8/evaluation.py',\n",
       "       'LocalPath': '/opt/ml/processing/input/code',\n",
       "       'S3DataType': 'S3Prefix',\n",
       "       'S3InputMode': 'File',\n",
       "       'S3DataDistributionType': 'FullyReplicated',\n",
       "       'S3CompressionType': 'None'}}],\n",
       "    'ProcessingOutputConfig': {'Outputs': [{'OutputName': 'evaluation',\n",
       "       'AppManaged': False,\n",
       "       'S3Output': {'S3Uri': {'Std:Join': {'On': '/',\n",
       "          'Values': ['s3:/',\n",
       "           'sagemaker-ap-southeast-1-879654127886',\n",
       "           'LocalModelPipeline',\n",
       "           {'Get': 'Execution.PipelineExecutionId'},\n",
       "           'AbaloneEval',\n",
       "           'output',\n",
       "           'evaluation']}},\n",
       "        'LocalPath': '/opt/ml/processing/evaluation',\n",
       "        'S3UploadMode': 'EndOfJob'}}]}},\n",
       "   'PropertyFiles': [{'PropertyFileName': 'EvaluationReport',\n",
       "     'OutputName': 'evaluation',\n",
       "     'FilePath': 'evaluation.json'}]},\n",
       "  {'Name': 'AbaloneMSECond',\n",
       "   'Type': 'Condition',\n",
       "   'Arguments': {'Conditions': [{'Type': 'LessThanOrEqualTo',\n",
       "      'LeftValue': {'Std:JsonGet': {'PropertyFile': {'Get': 'Steps.AbaloneEval.PropertyFiles.EvaluationReport'},\n",
       "        'Path': 'regression_metrics.mse.value'}},\n",
       "      'RightValue': {'Get': 'Parameters.MseThreshold'}}],\n",
       "    'IfSteps': [{'Name': 'AbaloneCreateModel-RepackModel-0',\n",
       "      'Type': 'Training',\n",
       "      'Arguments': {'AlgorithmSpecification': {'TrainingInputMode': 'File',\n",
       "        'TrainingImage': '121021644041.dkr.ecr.ap-southeast-1.amazonaws.com/sagemaker-scikit-learn:0.23-1-cpu-py3'},\n",
       "       'OutputDataConfig': {'S3OutputPath': 's3://sagemaker-ap-southeast-1-879654127886/sagemaker-xgboost-2024-04-08-07-03-57-578'},\n",
       "       'StoppingCondition': {'MaxRuntimeInSeconds': 86400},\n",
       "       'ResourceConfig': {'VolumeSizeInGB': 30,\n",
       "        'InstanceCount': 1,\n",
       "        'InstanceType': 'ml.m5.large'},\n",
       "       'RoleArn': 'arn:aws:iam::879654127886:role/AirflowSageMakerExecutionRole',\n",
       "       'InputDataConfig': [{'DataSource': {'S3DataSource': {'S3DataType': 'S3Prefix',\n",
       "           'S3Uri': {'Get': 'Steps.AbaloneTrain.ModelArtifacts.S3ModelArtifacts'},\n",
       "           'S3DataDistributionType': 'FullyReplicated'}},\n",
       "         'ChannelName': 'training'}],\n",
       "       'HyperParameters': {'inference_script': '\"inference.py\"',\n",
       "        'model_archive': {'Std:Join': {'On': '',\n",
       "          'Values': [{'Get': 'Steps.AbaloneTrain.ModelArtifacts.S3ModelArtifacts'}]}},\n",
       "        'dependencies': 'null',\n",
       "        'source_dir': '\"code\"',\n",
       "        'sagemaker_submit_directory': '\"s3://sagemaker-ap-southeast-1-879654127886/AbaloneCreateModel-RepackModel-0-ce903db24aef59643c8f2a4c6a44cfe6/source/sourcedir.tar.gz\"',\n",
       "        'sagemaker_program': '\"_repack_script_launcher.sh\"',\n",
       "        'sagemaker_container_log_level': '20',\n",
       "        'sagemaker_region': '\"ap-southeast-1\"'},\n",
       "       'DebugHookConfig': {'S3OutputPath': 's3://sagemaker-ap-southeast-1-879654127886/sagemaker-xgboost-2024-04-08-07-03-57-578',\n",
       "        'CollectionConfigurations': []},\n",
       "       'ProfilerConfig': {'DisableProfiler': True}},\n",
       "      'Description': 'Used to repack a model with customer scripts for a register/create model step'},\n",
       "     {'Name': 'AbaloneCreateModel-CreateModel',\n",
       "      'Type': 'Model',\n",
       "      'Arguments': {'ExecutionRoleArn': 'arn:aws:iam::879654127886:role/AirflowSageMakerExecutionRole',\n",
       "       'PrimaryContainer': {'Image': '121021644041.dkr.ecr.ap-southeast-1.amazonaws.com/sagemaker-xgboost:1.5-1',\n",
       "        'Environment': {'SAGEMAKER_PROGRAM': 'inference.py',\n",
       "         'SAGEMAKER_SUBMIT_DIRECTORY': '/opt/ml/model/code',\n",
       "         'SAGEMAKER_CONTAINER_LOG_LEVEL': '20',\n",
       "         'SAGEMAKER_REGION': 'ap-southeast-1'},\n",
       "        'ModelDataUrl': {'Get': 'Steps.AbaloneCreateModel-RepackModel-0.ModelArtifacts.S3ModelArtifacts'}}}},\n",
       "     {'Name': 'AbaloneTransform',\n",
       "      'Type': 'Transform',\n",
       "      'Arguments': {'ModelName': {'Get': 'Steps.AbaloneCreateModel-CreateModel.ModelName'},\n",
       "       'TransformInput': {'DataSource': {'S3DataSource': {'S3DataType': 'S3Prefix',\n",
       "          'S3Uri': {'Std:Join': {'On': '/',\n",
       "            'Values': [{'Get': \"Steps.AbaloneProcess.ProcessingOutputConfig.Outputs['test'].S3Output.S3Uri\"},\n",
       "             'test.csv']}}}},\n",
       "        'ContentType': 'text/csv'},\n",
       "       'TransformOutput': {'S3OutputPath': 's3://sagemaker-ap-southeast-1-879654127886/sagemaker-pipelines-local-mode-example/transform'},\n",
       "       'TransformResources': {'InstanceCount': 1,\n",
       "        'InstanceType': 'ml.m5.xlarge'}}}],\n",
       "    'ElseSteps': [{'Name': 'AbaloneMSEFail',\n",
       "      'Type': 'Fail',\n",
       "      'Arguments': {'ErrorMessage': {'Std:Join': {'On': ' ',\n",
       "         'Values': ['Execution failed due to MSE >',\n",
       "          {'Get': 'Parameters.MseThreshold'}]}}}}]}}]}"
      ]
     },
     "metadata": {},
     "output_type": "display_data"
    }
   ],
   "source": [
    "import json\n",
    "\n",
    "definition = json.loads(pipeline.definition())\n",
    "definition"
   ]
  },
  {
   "cell_type": "code",
   "execution_count": 37,
   "metadata": {},
   "outputs": [
    {
     "data": {
      "text/plain": [
       "{'PipelineExecutionSteps': [{'EndTime': 1712561402.308772,\n",
       "   'Metadata': {'ProcessingJob': {'Arn': 'AbaloneProcess-1712561387-53ed'}},\n",
       "   'StartTime': 1712561387.224455,\n",
       "   'StepName': 'AbaloneProcess',\n",
       "   'StepStatus': 'Succeeded'},\n",
       "  {'EndTime': 1712562306.733172,\n",
       "   'Metadata': {'TrainingJob': {'Arn': 'AbaloneTrain-1712561402-30d6'}},\n",
       "   'StartTime': 1712561402.309519,\n",
       "   'StepName': 'AbaloneTrain',\n",
       "   'StepStatus': 'Succeeded'},\n",
       "  {'EndTime': 1712562324.267074,\n",
       "   'Metadata': {'ProcessingJob': {'Arn': 'AbaloneEval-1712562306-90ac'}},\n",
       "   'StartTime': 1712562306.736914,\n",
       "   'StepName': 'AbaloneEval',\n",
       "   'StepStatus': 'Succeeded'},\n",
       "  {'EndTime': 1712562324.620099,\n",
       "   'Metadata': {'Condition': {'Outcome': True}},\n",
       "   'StartTime': 1712562324.268884,\n",
       "   'StepName': 'AbaloneMSECond',\n",
       "   'StepStatus': 'Succeeded'},\n",
       "  {'EndTime': 1712563026.678106,\n",
       "   'Metadata': {'TrainingJob': {'Arn': 'AbaloneCreateModel-RepackModel-0-1712562324-8755'}},\n",
       "   'StartTime': 1712562324.620788,\n",
       "   'StepDescription': 'Used to repack a model with customer scripts for a register/create model step',\n",
       "   'StepName': 'AbaloneCreateModel-RepackModel-0',\n",
       "   'StepStatus': 'Succeeded'},\n",
       "  {'EndTime': 1712563026.686013,\n",
       "   'Metadata': {'Model': {'Arn': 'AbaloneCreateModel-CreateModel-1712563026-ff46'}},\n",
       "   'StartTime': 1712563026.6801,\n",
       "   'StepName': 'AbaloneCreateModel-CreateModel',\n",
       "   'StepStatus': 'Succeeded'},\n",
       "  {'EndTime': 1712563081.797567,\n",
       "   'Metadata': {'TransformJob': {'Arn': 'AbaloneTransform-1712563026-a2f4'}},\n",
       "   'StartTime': 1712563026.687412,\n",
       "   'StepName': 'AbaloneTransform',\n",
       "   'StepStatus': 'Succeeded'}]}"
      ]
     },
     "execution_count": 37,
     "metadata": {},
     "output_type": "execute_result"
    }
   ],
   "source": [
    "steps = execution.list_steps()\n",
    "steps"
   ]
  },
  {
   "cell_type": "markdown",
   "metadata": {},
   "source": [
    "## Get Output values"
   ]
  },
  {
   "cell_type": "code",
   "execution_count": 38,
   "metadata": {},
   "outputs": [
    {
     "name": "stdout",
     "output_type": "stream",
     "text": [
      "s3://sagemaker-ap-southeast-1-879654127886/LocalModelPipeline/13a73e55-1a1a-4186-955e-10f9252aa090/AbaloneProcess/output/train\n",
      "s3://sagemaker-ap-southeast-1-879654127886/LocalModelPipeline/13a73e55-1a1a-4186-955e-10f9252aa090/AbaloneProcess/output/validation\n",
      "s3://sagemaker-ap-southeast-1-879654127886/LocalModelPipeline/13a73e55-1a1a-4186-955e-10f9252aa090/AbaloneProcess/output/test\n"
     ]
    }
   ],
   "source": [
    "# Get output files from processing job\n",
    "\n",
    "processing_job_name = steps[\"PipelineExecutionSteps\"][0][\"Metadata\"][\"ProcessingJob\"][\"Arn\"]\n",
    "outputs = local_pipeline_session.sagemaker_client.describe_processing_job(\n",
    "    ProcessingJobName=processing_job_name\n",
    ")[\"ProcessingOutputConfig\"][\"Outputs\"]\n",
    "for key in outputs:\n",
    "    print(outputs[key][\"S3Output\"][\"S3Uri\"])"
   ]
  },
  {
   "cell_type": "code",
   "execution_count": 39,
   "metadata": {},
   "outputs": [
    {
     "name": "stdout",
     "output_type": "stream",
     "text": [
      "Model location :  s3://sagemaker-ap-southeast-1-879654127886/sagemaker-pipelines-local-mode-example/model/AbaloneTrain-1712561402-30d6/output/model.tar.gz\n"
     ]
    }
   ],
   "source": [
    "# Get output from training job\n",
    "training_job_name = steps[\"PipelineExecutionSteps\"][1][\"Metadata\"][\"TrainingJob\"][\"Arn\"]\n",
    "outputs = local_pipeline_session.sagemaker_client.describe_training_job(\n",
    "    TrainingJobName=training_job_name\n",
    ")\n",
    "print(\"Model location : \", outputs[\"ModelArtifacts\"][\"S3ModelArtifacts\"])"
   ]
  },
  {
   "cell_type": "code",
   "execution_count": 40,
   "metadata": {},
   "outputs": [
    {
     "name": "stdout",
     "output_type": "stream",
     "text": [
      "s3://sagemaker-ap-southeast-1-879654127886/LocalModelPipeline/13a73e55-1a1a-4186-955e-10f9252aa090/AbaloneEval/output/evaluation\n"
     ]
    }
   ],
   "source": [
    "# Get output from model evaluation step (processing job)\n",
    "processing_job_name = steps[\"PipelineExecutionSteps\"][2][\"Metadata\"][\"ProcessingJob\"][\"Arn\"]\n",
    "outputs = local_pipeline_session.sagemaker_client.describe_processing_job(\n",
    "    ProcessingJobName=processing_job_name\n",
    ")[\"ProcessingOutputConfig\"][\"Outputs\"]\n",
    "for key in outputs:\n",
    "    print(outputs[key][\"S3Output\"][\"S3Uri\"])"
   ]
  },
  {
   "cell_type": "code",
   "execution_count": 46,
   "metadata": {},
   "outputs": [
    {
     "name": "stdout",
     "output_type": "stream",
     "text": [
      "{'ModelName': 'AbaloneCreateModel-CreateModel-1712563026-ff46', 'CreationTime': datetime.datetime(2024, 4, 8, 14, 57, 6, 685493), 'ExecutionRoleArn': 'local:arn-does-not-matter', 'ModelArn': 'local:arn-does-not-matter', 'PrimaryContainer': {'Image': '121021644041.dkr.ecr.ap-southeast-1.amazonaws.com/sagemaker-xgboost:1.5-1', 'Environment': {'SAGEMAKER_PROGRAM': 'inference.py', 'SAGEMAKER_SUBMIT_DIRECTORY': '/opt/ml/model/code', 'SAGEMAKER_CONTAINER_LOG_LEVEL': '20', 'SAGEMAKER_REGION': 'ap-southeast-1'}, 'ModelDataUrl': 's3://sagemaker-ap-southeast-1-879654127886/sagemaker-xgboost-2024-04-08-07-03-57-578/AbaloneCreateModel-RepackModel-0-1712562324-8755/output/model.tar.gz'}}\n"
     ]
    }
   ],
   "source": [
    "# Get output of ModelStep\n",
    "import json\n",
    "\n",
    "model_name = steps[\"PipelineExecutionSteps\"][-2][\"Metadata\"][\"Model\"][\"Arn\"]\n",
    "outputs = local_pipeline_session.sagemaker_client.describe_model(ModelName=model_name)\n",
    "print(outputs)"
   ]
  },
  {
   "cell_type": "code",
   "execution_count": 48,
   "metadata": {},
   "outputs": [
    {
     "name": "stdout",
     "output_type": "stream",
     "text": [
      "{'TransformJobStatus': 'Completed', 'ModelName': 'AbaloneCreateModel-CreateModel-1712563026-ff46', 'TransformJobName': 'AbaloneTransform-1712563026-a2f4', 'TransformJobArn': 'local:arn-does-not-matter', 'TransformEndTime': datetime.datetime(2024, 4, 8, 14, 58, 1, 796574), 'CreationTime': datetime.datetime(2024, 4, 8, 14, 57, 55, 675007), 'TransformStartTime': datetime.datetime(2024, 4, 8, 14, 57, 55, 675007), 'Environment': {}, 'BatchStrategy': 'MultiRecord', 'TransformResources': {'InstanceCount': 1, 'InstanceType': 'ml.m5.xlarge'}, 'TransformOutput': {'S3OutputPath': 's3://sagemaker-ap-southeast-1-879654127886/sagemaker-pipelines-local-mode-example/transform'}, 'TransformInput': {'DataSource': {'S3DataSource': {'S3DataType': 'S3Prefix', 'S3Uri': 's3://sagemaker-ap-southeast-1-879654127886/LocalModelPipeline/13a73e55-1a1a-4186-955e-10f9252aa090/AbaloneProcess/output/test/test.csv'}}, 'ContentType': 'text/csv'}}\n"
     ]
    }
   ],
   "source": [
    "# Get output from the TransformStep\n",
    "\n",
    "transform_job_name = steps[\"PipelineExecutionSteps\"][-1][\"Metadata\"][\"TransformJob\"][\"Arn\"]\n",
    "outputs = local_pipeline_session.sagemaker_client.describe_transform_job(\n",
    "    TransformJobName=transform_job_name\n",
    ")\n",
    "print(outputs)"
   ]
  },
  {
   "cell_type": "markdown",
   "metadata": {},
   "source": [
    "# Transition to running pipeline as SageMaker Managed Pipeline\n",
    "We will now use a non-local PipelineSession object to re-run the Pipeline steps via SageMaker as a managed service. This will run all pipeline steps as SageMaker-managed processes. This will also allow us to view and track the results directly in the SageMaker Studio UI."
   ]
  },
  {
   "cell_type": "code",
   "execution_count": 49,
   "metadata": {},
   "outputs": [],
   "source": [
    "from sagemaker.workflow.pipeline_context import PipelineSession\n",
    "\n",
    "pipeline_session = PipelineSession()"
   ]
  },
  {
   "cell_type": "code",
   "execution_count": 50,
   "metadata": {},
   "outputs": [
    {
     "name": "stderr",
     "output_type": "stream",
     "text": [
      "INFO:sagemaker.image_uris:Defaulting to only available Python version: py3\n",
      "/Users/trungtran/Library/Python/3.9/lib/python/site-packages/sagemaker/workflow/pipeline_context.py:332: UserWarning: Running within a PipelineSession, there will be No Wait, No Logs, and No Job being started.\n",
      "  warnings.warn(\n"
     ]
    }
   ],
   "source": [
    "# Recreate the SKLearnProcessor with non-local session\n",
    "\n",
    "framework_version = \"1.0-1\"\n",
    "\n",
    "sklearn_processor = SKLearnProcessor(\n",
    "    framework_version=framework_version,\n",
    "    instance_type=instance_type,\n",
    "    instance_count=processing_instance_count,\n",
    "    base_job_name=\"sklearn-abalone-process\",\n",
    "    role=role,\n",
    "    sagemaker_session=pipeline_session,  # use non-local session\n",
    ")\n",
    "\n",
    "processor_args = sklearn_processor.run(\n",
    "    inputs=[\n",
    "        ProcessingInput(source=input_data, destination=\"/opt/ml/processing/input\"),\n",
    "    ],\n",
    "    outputs=[\n",
    "        ProcessingOutput(output_name=\"train\", source=\"/opt/ml/processing/train\"),\n",
    "        ProcessingOutput(output_name=\"validation\", source=\"/opt/ml/processing/validation\"),\n",
    "        ProcessingOutput(output_name=\"test\", source=\"/opt/ml/processing/test\"),\n",
    "    ],\n",
    "    code=\"code/preprocessing.py\",\n",
    ")\n",
    "\n",
    "step_process = ProcessingStep(name=\"AbaloneProcess\", step_args=processor_args)"
   ]
  },
  {
   "cell_type": "code",
   "execution_count": 51,
   "metadata": {},
   "outputs": [
    {
     "name": "stdout",
     "output_type": "stream",
     "text": [
      "image_uri: 121021644041.dkr.ecr.ap-southeast-1.amazonaws.com/sagemaker-xgboost:1.5-1\n",
      "model_path: s3://sagemaker-ap-southeast-1-879654127886/sagemaker-pipelines-local-mode-example/model\n"
     ]
    }
   ],
   "source": [
    "print(f\"image_uri: {image_uri}\")\n",
    "print(f\"model_path: {model_path}\")"
   ]
  },
  {
   "cell_type": "code",
   "execution_count": 52,
   "metadata": {},
   "outputs": [],
   "source": [
    "# Recreate the Estimator instance with non-local session\n",
    "\n",
    "xgb_train = Estimator(\n",
    "    image_uri=image_uri,\n",
    "    entry_point=\"code/abalone.py\",\n",
    "    instance_type=instance_type,\n",
    "    instance_count=training_instance_count,\n",
    "    output_path=model_path,\n",
    "    role=role,\n",
    "    sagemaker_session=pipeline_session,  # use non-local session\n",
    ")\n",
    "\n",
    "xgb_train.set_hyperparameters(\n",
    "    objective=\"reg:squarederror\",\n",
    "    learning_rate=0.01,\n",
    "    num_round=50,\n",
    "    max_depth=5,\n",
    "    eta=0.2,\n",
    "    gamma=4,\n",
    "    min_child_weight=6,\n",
    "    subsample=0.7,\n",
    ")\n",
    "\n",
    "train_args = xgb_train.fit(\n",
    "    inputs={\n",
    "        \"train\": TrainingInput(\n",
    "            s3_data=step_process.properties.ProcessingOutputConfig.Outputs[\"train\"].S3Output.S3Uri,\n",
    "            content_type=\"text/csv\",\n",
    "        ),\n",
    "        \"validation\": TrainingInput(\n",
    "            s3_data=step_process.properties.ProcessingOutputConfig.Outputs[\n",
    "                \"validation\"\n",
    "            ].S3Output.S3Uri,\n",
    "            content_type=\"text/csv\",\n",
    "        ),\n",
    "    }\n",
    ")\n",
    "\n",
    "step_train = TrainingStep(\n",
    "    name=\"AbaloneTrain\",\n",
    "    step_args=train_args,\n",
    ")"
   ]
  },
  {
   "cell_type": "code",
   "execution_count": 53,
   "metadata": {},
   "outputs": [],
   "source": [
    "# Recreate the Script Processor instance with non-local session\n",
    "\n",
    "script_eval = ScriptProcessor(\n",
    "    image_uri=image_uri,\n",
    "    command=[\"python3\"],\n",
    "    instance_type=instance_type,\n",
    "    instance_count=processing_instance_count,\n",
    "    base_job_name=\"script-abalone-eval\",\n",
    "    role=role,\n",
    "    sagemaker_session=pipeline_session,  # use non-local session\n",
    ")\n",
    "\n",
    "eval_args = script_eval.run(\n",
    "    inputs=[\n",
    "        ProcessingInput(\n",
    "            source=step_train.properties.ModelArtifacts.S3ModelArtifacts,\n",
    "            destination=\"/opt/ml/processing/model\",\n",
    "        ),\n",
    "        ProcessingInput(\n",
    "            source=step_process.properties.ProcessingOutputConfig.Outputs[\"test\"].S3Output.S3Uri,\n",
    "            destination=\"/opt/ml/processing/test\",\n",
    "        ),\n",
    "    ],\n",
    "    outputs=[\n",
    "        ProcessingOutput(output_name=\"evaluation\", source=\"/opt/ml/processing/evaluation\"),\n",
    "    ],\n",
    "    code=\"code/evaluation.py\",\n",
    ")\n",
    "\n",
    "evaluation_report = PropertyFile(\n",
    "    name=\"EvaluationReport\", output_name=\"evaluation\", path=\"evaluation.json\"\n",
    ")\n",
    "\n",
    "step_eval = ProcessingStep(\n",
    "    name=\"AbaloneEval\",\n",
    "    step_args=eval_args,\n",
    "    property_files=[evaluation_report],\n",
    ")"
   ]
  },
  {
   "cell_type": "code",
   "execution_count": 54,
   "metadata": {},
   "outputs": [],
   "source": [
    "# Recreate the Model instance with non-local session\n",
    "\n",
    "model = Model(\n",
    "    image_uri=image_uri,\n",
    "    model_data=step_train.properties.ModelArtifacts.S3ModelArtifacts,\n",
    "    source_dir=\"code\",\n",
    "    entry_point=\"inference.py\",\n",
    "    role=role,\n",
    "    sagemaker_session=pipeline_session,  # use non-local session\n",
    ")\n",
    "\n",
    "step_create_model = ModelStep(\n",
    "    name=\"AbaloneCreateModel\", step_args=model.create(instance_type=instance_type)\n",
    ")"
   ]
  },
  {
   "cell_type": "code",
   "execution_count": 55,
   "metadata": {},
   "outputs": [],
   "source": [
    "# Recreate the Transformer instance with non-local session\n",
    "\n",
    "transformer = Transformer(\n",
    "    model_name=step_create_model.properties.ModelName,\n",
    "    instance_type=instance_type,\n",
    "    instance_count=transform_instance_count,\n",
    "    output_path=f\"s3://{default_bucket}/{prefix}/transform\",\n",
    "    sagemaker_session=pipeline_session,  # use non-local session\n",
    ")\n",
    "\n",
    "transform_data = Join(\n",
    "    on=\"/\",\n",
    "    values=[\n",
    "        step_process.properties.ProcessingOutputConfig.Outputs[\"test\"].S3Output.S3Uri,\n",
    "        \"test.csv\",\n",
    "    ],\n",
    ")\n",
    "\n",
    "transform_args = transformer.transform(transform_data, content_type=\"text/csv\")\n",
    "\n",
    "step_transform = TransformStep(name=\"AbaloneTransform\", step_args=transform_args)"
   ]
  },
  {
   "cell_type": "code",
   "execution_count": 56,
   "metadata": {},
   "outputs": [],
   "source": [
    "# Recreate the Step condition with new step instances\n",
    "\n",
    "step_cond = ConditionStep(\n",
    "    name=\"AbaloneMSECond\",\n",
    "    conditions=[cond_lte],\n",
    "    if_steps=[step_create_model, step_transform],\n",
    "    else_steps=[step_fail],\n",
    ")"
   ]
  },
  {
   "cell_type": "code",
   "execution_count": null,
   "metadata": {},
   "outputs": [],
   "source": [
    "from sagemaker.workflow.pipeline import Pipeline\n",
    "\n",
    "pipeline_name = f\"LocalModelPipeline\"\n",
    "pipeline = Pipeline(\n",
    "    name=pipeline_name,\n",
    "    parameters=[\n",
    "        input_data,\n",
    "        mse_threshold,\n",
    "    ],\n",
    "    steps=[step_process, step_train, step_eval, step_cond],\n",
    "    sagemaker_session=local_pipeline_session,\n",
    ")"
   ]
  },
  {
   "cell_type": "code",
   "execution_count": 63,
   "metadata": {},
   "outputs": [],
   "source": [
    "from sagemaker.workflow.pipeline import Pipeline\n",
    "\n",
    "pipeline_name = f\"SM-Managed-Pipeline\"\n",
    "sm_pipeline = Pipeline(\n",
    "    name=pipeline_name,\n",
    "    parameters=[\n",
    "        input_data,\n",
    "        mse_threshold,\n",
    "    ],\n",
    "    steps=[step_process, step_train, step_eval, step_cond],\n",
    "    sagemaker_session=pipeline_session,\n",
    ")"
   ]
  },
  {
   "cell_type": "code",
   "execution_count": 64,
   "metadata": {},
   "outputs": [
    {
     "name": "stderr",
     "output_type": "stream",
     "text": [
      "WARNING:sagemaker.workflow.utilities:Popping out 'ProcessingJobName' from the pipeline definition by default since it will be overridden at pipeline execution time. Please utilize the PipelineDefinitionConfig to persist this field in the pipeline definition if desired.\n",
      "WARNING:sagemaker.workflow.utilities:Popping out 'TrainingJobName' from the pipeline definition by default since it will be overridden at pipeline execution time. Please utilize the PipelineDefinitionConfig to persist this field in the pipeline definition if desired.\n",
      "WARNING:sagemaker.workflow.utilities:Popping out 'ProcessingJobName' from the pipeline definition by default since it will be overridden at pipeline execution time. Please utilize the PipelineDefinitionConfig to persist this field in the pipeline definition if desired.\n",
      "WARNING:sagemaker.workflow.utilities:Popping out 'TrainingJobName' from the pipeline definition by default since it will be overridden at pipeline execution time. Please utilize the PipelineDefinitionConfig to persist this field in the pipeline definition if desired.\n",
      "WARNING:sagemaker.workflow.utilities:Popping out 'ModelName' from the pipeline definition by default since it will be overridden at pipeline execution time. Please utilize the PipelineDefinitionConfig to persist this field in the pipeline definition if desired.\n",
      "WARNING:sagemaker.workflow.utilities:Popping out 'TransformJobName' from the pipeline definition by default since it will be overridden at pipeline execution time. Please utilize the PipelineDefinitionConfig to persist this field in the pipeline definition if desired.\n",
      "WARNING:sagemaker.workflow.utilities:Popping out 'ProcessingJobName' from the pipeline definition by default since it will be overridden at pipeline execution time. Please utilize the PipelineDefinitionConfig to persist this field in the pipeline definition if desired.\n",
      "WARNING:sagemaker.workflow.utilities:Popping out 'TrainingJobName' from the pipeline definition by default since it will be overridden at pipeline execution time. Please utilize the PipelineDefinitionConfig to persist this field in the pipeline definition if desired.\n",
      "WARNING:sagemaker.workflow.utilities:Popping out 'ProcessingJobName' from the pipeline definition by default since it will be overridden at pipeline execution time. Please utilize the PipelineDefinitionConfig to persist this field in the pipeline definition if desired.\n",
      "WARNING:sagemaker.workflow.utilities:Popping out 'TrainingJobName' from the pipeline definition by default since it will be overridden at pipeline execution time. Please utilize the PipelineDefinitionConfig to persist this field in the pipeline definition if desired.\n",
      "WARNING:sagemaker.workflow.utilities:Popping out 'ModelName' from the pipeline definition by default since it will be overridden at pipeline execution time. Please utilize the PipelineDefinitionConfig to persist this field in the pipeline definition if desired.\n",
      "WARNING:sagemaker.workflow.utilities:Popping out 'TransformJobName' from the pipeline definition by default since it will be overridden at pipeline execution time. Please utilize the PipelineDefinitionConfig to persist this field in the pipeline definition if desired.\n"
     ]
    },
    {
     "data": {
      "text/plain": [
       "{'PipelineArn': 'arn:aws:sagemaker:ap-southeast-1:879654127886:pipeline/SM-Managed-Pipeline',\n",
       " 'ResponseMetadata': {'RequestId': '52fef7e9-a6ad-43a7-940e-b89dc613f2b9',\n",
       "  'HTTPStatusCode': 200,\n",
       "  'HTTPHeaders': {'x-amzn-requestid': '52fef7e9-a6ad-43a7-940e-b89dc613f2b9',\n",
       "   'content-type': 'application/x-amz-json-1.1',\n",
       "   'content-length': '92',\n",
       "   'date': 'Mon, 08 Apr 2024 08:13:57 GMT'},\n",
       "  'RetryAttempts': 0}}"
      ]
     },
     "execution_count": 64,
     "metadata": {},
     "output_type": "execute_result"
    }
   ],
   "source": [
    "sm_pipeline.upsert(role_arn=role)\n"
   ]
  },
  {
   "cell_type": "code",
   "execution_count": 65,
   "metadata": {},
   "outputs": [],
   "source": [
    "# start execution of SageMaker-managed pipeline\n",
    "sm_execution = sm_pipeline.start()"
   ]
  },
  {
   "cell_type": "code",
   "execution_count": 66,
   "metadata": {},
   "outputs": [],
   "source": [
    "sm_execution.wait(delay=60, max_attempts=60)\n"
   ]
  },
  {
   "cell_type": "code",
   "execution_count": 67,
   "metadata": {},
   "outputs": [
    {
     "data": {
      "text/plain": [
       "[{'StepName': 'AbaloneTransform',\n",
       "  'StartTime': datetime.datetime(2024, 4, 8, 15, 28, 9, 565000, tzinfo=tzlocal()),\n",
       "  'EndTime': datetime.datetime(2024, 4, 8, 15, 33, 1, 819000, tzinfo=tzlocal()),\n",
       "  'StepStatus': 'Succeeded',\n",
       "  'Metadata': {'TransformJob': {'Arn': 'arn:aws:sagemaker:ap-southeast-1:879654127886:transform-job/pipelines-g9s99w1fka0h-AbaloneTransform-mpA8lDtxLK'}},\n",
       "  'AttemptCount': 1},\n",
       " {'StepName': 'AbaloneCreateModel-CreateModel',\n",
       "  'StartTime': datetime.datetime(2024, 4, 8, 15, 28, 8, 28000, tzinfo=tzlocal()),\n",
       "  'EndTime': datetime.datetime(2024, 4, 8, 15, 28, 9, 252000, tzinfo=tzlocal()),\n",
       "  'StepStatus': 'Succeeded',\n",
       "  'Metadata': {'Model': {'Arn': 'arn:aws:sagemaker:ap-southeast-1:879654127886:model/pipelines-g9s99w1fka0h-AbaloneCreateModel-C-URGhEs7Ljc'}},\n",
       "  'AttemptCount': 1},\n",
       " {'StepName': 'AbaloneCreateModel-RepackModel-0',\n",
       "  'StartTime': datetime.datetime(2024, 4, 8, 15, 25, 32, 505000, tzinfo=tzlocal()),\n",
       "  'EndTime': datetime.datetime(2024, 4, 8, 15, 28, 7, 441000, tzinfo=tzlocal()),\n",
       "  'StepStatus': 'Succeeded',\n",
       "  'Metadata': {'TrainingJob': {'Arn': 'arn:aws:sagemaker:ap-southeast-1:879654127886:training-job/pipelines-g9s99w1fka0h-AbaloneCreateModel-R-QCXWNSx3Z2'}},\n",
       "  'AttemptCount': 1},\n",
       " {'StepName': 'AbaloneMSECond',\n",
       "  'StartTime': datetime.datetime(2024, 4, 8, 15, 25, 31, 505000, tzinfo=tzlocal()),\n",
       "  'EndTime': datetime.datetime(2024, 4, 8, 15, 25, 32, 129000, tzinfo=tzlocal()),\n",
       "  'StepStatus': 'Succeeded',\n",
       "  'Metadata': {'Condition': {'Outcome': 'True'}},\n",
       "  'AttemptCount': 1},\n",
       " {'StepName': 'AbaloneEval',\n",
       "  'StartTime': datetime.datetime(2024, 4, 8, 15, 21, 15, 565000, tzinfo=tzlocal()),\n",
       "  'EndTime': datetime.datetime(2024, 4, 8, 15, 25, 30, 893000, tzinfo=tzlocal()),\n",
       "  'StepStatus': 'Succeeded',\n",
       "  'Metadata': {'ProcessingJob': {'Arn': 'arn:aws:sagemaker:ap-southeast-1:879654127886:processing-job/pipelines-g9s99w1fka0h-AbaloneEval-HJkLdJ371F'}},\n",
       "  'AttemptCount': 1},\n",
       " {'StepName': 'AbaloneTrain',\n",
       "  'StartTime': datetime.datetime(2024, 4, 8, 15, 18, 32, 242000, tzinfo=tzlocal()),\n",
       "  'EndTime': datetime.datetime(2024, 4, 8, 15, 21, 14, 945000, tzinfo=tzlocal()),\n",
       "  'StepStatus': 'Succeeded',\n",
       "  'Metadata': {'TrainingJob': {'Arn': 'arn:aws:sagemaker:ap-southeast-1:879654127886:training-job/pipelines-g9s99w1fka0h-AbaloneTrain-YS9fLFswfm'}},\n",
       "  'AttemptCount': 1},\n",
       " {'StepName': 'AbaloneProcess',\n",
       "  'StartTime': datetime.datetime(2024, 4, 8, 15, 14, 7, 369000, tzinfo=tzlocal()),\n",
       "  'EndTime': datetime.datetime(2024, 4, 8, 15, 18, 31, 386000, tzinfo=tzlocal()),\n",
       "  'StepStatus': 'Succeeded',\n",
       "  'Metadata': {'ProcessingJob': {'Arn': 'arn:aws:sagemaker:ap-southeast-1:879654127886:processing-job/pipelines-g9s99w1fka0h-AbaloneProcess-zenAHtkNUq'}},\n",
       "  'AttemptCount': 1}]"
      ]
     },
     "execution_count": 67,
     "metadata": {},
     "output_type": "execute_result"
    }
   ],
   "source": [
    "sm_execution.list_steps()\n"
   ]
  }
 ],
 "metadata": {
  "kernelspec": {
   "display_name": "Python 3",
   "language": "python",
   "name": "python3"
  },
  "language_info": {
   "codemirror_mode": {
    "name": "ipython",
    "version": 3
   },
   "file_extension": ".py",
   "mimetype": "text/x-python",
   "name": "python",
   "nbconvert_exporter": "python",
   "pygments_lexer": "ipython3",
   "version": "3.9.6"
  }
 },
 "nbformat": 4,
 "nbformat_minor": 2
}
